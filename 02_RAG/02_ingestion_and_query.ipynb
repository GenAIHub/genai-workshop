{
  "cells": [
    {
      "cell_type": "markdown",
      "metadata": {
        "id": "m0F4GZXDmfnQ"
      },
      "source": [
        "<a href=\"https://colab.research.google.com/github/GenAIHub/genai-workshop/blob/main/02_RAG/02_ingestion_and_query.ipynb\" target=\"_parent\"><img src=\"https://colab.research.google.com/assets/colab-badge.svg\" alt=\"Open In Colab\"/></a>"
      ]
    },
    {
      "cell_type": "code",
      "execution_count": null,
      "metadata": {
        "collapsed": true,
        "id": "TxNdO6CtvT8t"
      },
      "outputs": [],
      "source": [
        "!pip install boto3\n",
        "!pip install pydantic==1.10.9\n",
        "!pip installl lama_index\n",
        "!pip install llama-index-embeddings-bedrock==0.1.4\n",
        "!pip install llama-index-llms-bedrock==0.1.5\n",
        "!pip install llama-index-vector-stores-postgres==0.1.5\n",
        "!pip install langchain==0.0.333\n",
        "!pip install PyMuPDF\n",
        "!pip install llama-index-readers-file"
      ]
    },
    {
      "cell_type": "code",
      "execution_count": 2,
      "metadata": {
        "colab": {
          "base_uri": "https://localhost:8080/"
        },
        "collapsed": true,
        "id": "0cghk1mavusG",
        "outputId": "d45f4da7-d80f-4699-a5cd-f6193d7438b5"
      },
      "outputs": [
        {
          "output_type": "stream",
          "name": "stdout",
          "text": [
            "\n",
            "The document has 75 pages.\n",
            "\n",
            "\n",
            "Table of Contents\n",
            "UNITED STATES\n",
            "SECURITIES AND EXCHANGE COMMISSION\n",
            "Washington, D.C. 20549\n",
            " ____________________________________\n",
            "FORM 10-K\n",
            "____________________________________ \n",
            "(Mark One)\n",
            "☒\n",
            "ANNUAL REPORT PURSUANT TO SECTION 13 OR 15(d) OF THE SECURITIES EXCHANGE ACT OF 1934\n",
            "For the fiscal year ended December 31, 2022\n",
            "or\n",
            "☐\n",
            "TRANSITION REPORT PURSUANT TO SECTION 13 OR 15(d) OF THE SECURITIES EXCHANGE ACT OF 1934\n",
            "For the transition period from            to             .\n",
            "Commission File No. 000-22513\n",
            "____________________________________\n",
            "AMAZON.COM, INC.\n",
            "(Exact name of registrant as specified in its charter)\n",
            "Delaware\n",
            " \n",
            "91-1646860\n",
            "(State or other jurisdiction of\n",
            "incorporation or organization)\n",
            " \n",
            "(I.R.S. Employer\n",
            "Identification No.)\n",
            "410 Terry Avenue North\n",
            "Seattle, Washington 98109-5210\n",
            "(206) 266-1000\n",
            "(Address and telephone number, including area code, of registrant’s principal executive offices)\n",
            "Securities registered pursuant to Section 12(b) of the Act:\n",
            "Title of Each Class\n",
            "Trading Symbol(s)\n",
            "Na\n"
          ]
        }
      ],
      "source": [
        "import fitz\n",
        "import os\n",
        "import requests\n",
        "\n",
        "# Create the data directory if it doesn't exist\n",
        "data_dir = \"./data\"\n",
        "os.makedirs(data_dir, exist_ok=True)\n",
        "\n",
        "# Define the URL and the local file path\n",
        "pdf_url = \"https://d687lz8k56fia.cloudfront.net/sec-edgar-filings/0001018724/10-K/0001018724-23-000004/filing-details.pdf\"\n",
        "pdf_path = os.path.join(data_dir, \"AMZN.pdf\")\n",
        "\n",
        "# Download the PDF file\n",
        "response = requests.get(pdf_url)\n",
        "with open(pdf_path, \"wb\") as file:\n",
        "    file.write(response.content)\n",
        "\n",
        "doc = fitz.open(pdf_path)\n",
        "# doc = fitz.open(\"./data/your_file.pdf\")\n",
        "\n",
        "# Print the number of pages in the PDF\n",
        "print(f\"\\nThe document has {doc.page_count} pages.\\n\")\n",
        "\n",
        "full_pdf_content = \"\"\n",
        "for page in range(doc.page_count):\n",
        "  pg = doc.load_page(page)\n",
        "  text = pg.get_text()\n",
        "  full_pdf_content += text\n",
        "\n",
        "print(f\"\\n{full_pdf_content[:1000]}\")"
      ]
    },
    {
      "cell_type": "code",
      "execution_count": 3,
      "metadata": {
        "colab": {
          "base_uri": "https://localhost:8080/"
        },
        "id": "tDdrLo6Yvw-F",
        "outputId": "5ab6a43f-1146-49fe-b74e-a01ee1ff03ce"
      },
      "outputs": [
        {
          "output_type": "stream",
          "name": "stdout",
          "text": [
            "TextNode(id_='19426ee7-846b-49a1-b9c3-93f164aa536f', embedding=None, metadata={'page': 0, 'source': 'text', 'document_id': 'some_id'}, excluded_embed_metadata_keys=['page', 'source', 'document_id'], excluded_llm_metadata_keys=['page', 'source', 'document_id'], relationships={<NodeRelationship.SOURCE: '1'>: RelatedNodeInfo(node_id='ae2e97b8-252d-4011-8dd1-ce041a5a325e', node_type=<ObjectType.DOCUMENT: '4'>, metadata={'page': 0, 'source': 'text', 'document_id': 'some_id'}, hash='98b9dc512b239b5301a6757daafca0dcec035a1e353aa95f9e7dbb3bd3200805'), <NodeRelationship.NEXT: '3'>: RelatedNodeInfo(node_id='f37e2c42-8cbb-47b4-8049-d7653e247e6e', node_type=<ObjectType.TEXT: '1'>, metadata={}, hash='87c52425f841133fe345569918a8eb358dec72055a105cfcb18c67e313c0c375')}, text='Table of Contents\\nUNITED STATES\\nSECURITIES AND EXCHANGE COMMISSION\\nWashington, D.C. 20549\\n ____________________________________\\nFORM 10-K\\n____________________________________ \\n(Mark One)\\n☒\\nANNUAL REPORT PURSUANT TO SECTION 13 OR 15(d) OF THE SECURITIES EXCHANGE ACT OF 1934\\nFor the fiscal year ended December 31, 2022\\nor\\n☐\\nTRANSITION REPORT PURSUANT TO SECTION 13 OR 15(d) OF THE SECURITIES EXCHANGE ACT OF 1934\\nFor the transition period from            to             .\\nCommission File No. 000-22513\\n____________________________________\\nAMAZON.COM, INC.\\n(Exact name of registrant as specified in its charter)\\nDelaware\\n \\n91-1646860\\n(State or other jurisdiction of\\nincorporation or organization)\\n \\n(I.R.S. Employer\\nIdentification No.)\\n410 Terry Avenue North\\nSeattle, Washington 98109-5210\\n(206) 266-1000\\n(Address and telephone number, including area code, of registrant’s principal executive offices)\\nSecurities registered pursuant to Section 12(b) of the Act:\\nTitle of Each Class\\nTrading Symbol(s)\\nName of Each Exchange on Which Registered\\nCommon Stock, par value $.01 per share\\nAMZN\\nNasdaq Global Select Market\\nSecurities registered pursuant to Section 12(g) of the Act:\\nNone\\n ____________________________________\\nIndicate by check mark if the registrant is a well-known seasoned issuer, as defined in Rule 405 of the Securities Act.    Yes  ☒    No  ☐\\nIndicate by check mark if the registrant is not required to file reports pursuant to Section 13 or Section 15(d) of the Exchange Act.    Yes  ☐    No  ☒\\nIndicate by check mark whether the registrant (1) has filed all reports required to be filed by Section 13 or 15(d) of the Securities Exchange Act of 1934 during the preceding\\n12 months (or for such shorter period that the registrant was required to file such reports), and (2) has been subject to such filing requirements for the past\\n90 days.    Yes  ☒    No  ☐\\nIndicate by check mark whether the registrant has submitted electronically every Interactive Data File required to be submitted pursuant to Rule 405 of Regulation S-T\\nduring the preceding 12 months (or for such shorter period that the registrant was required to submit such files).    Yes  ☒    No  ☐\\nIndicate by check mark whether the registrant is a large accelerated filer, an accelerated filer, a non-accelerated filer, a smaller reporting company, or an emerging growth\\ncompany. See the definitions of “large accelerated filer,” “accelerated filer,” “smaller reporting company,” and “emerging growth company” in Rule 12b-2 of the Exchange Act.\\nLarge accelerated filer\\n☒\\nAccelerated filer\\n☐\\nNon-accelerated filer\\n☐\\nSmaller reporting company\\n☐\\nEmerging growth company\\n☐\\nIf an emerging growth company, indicate by check mark if the registrant has elected not to use the extended transition period for complying with any new or revised\\nfinancial accounting standards provided pursuant to Section 13(a) of the Exchange Act. ☐\\nIndicate by check mark whether the registrant has filed a report on and attestation to its management’s assessment of the effectiveness of its internal control over financial\\nreporting under Section 404(b) of the Sarbanes-Oxley Act (15 U.S.C. 7262(b)) by the registered public accounting firm that prepared or issued its audit report. ☒\\nIndicate by check mark whether the registrant is a shell company (as defined in Rule 12b-2 of the Exchange Act).    Yes  ☐    No  ☒\\nAggregate market value of voting stock held by non-affiliates of the registrant as of June 30, 2022\\n$\\n944,744,113,598 \\nNumber of shares of common stock outstanding as of January 25, 2023\\n10,247,259,757 \\n____________________________________ \\nDOCUMENTS INCORPORATED BY REFERENCE\\nThe information required by Part III of this Report, to the extent not set forth herein, is incorporated herein by reference from the registrant’s definitive proxy statement\\nrelating to the Annual Meeting of Shareholders to be held in 2023, which definitive proxy statement shall be filed with the Securities and Exchange Commission within 120 days\\nafter the end of the fiscal year to which this Report relates.\\nTable of Contents\\nAMAZON.COM, INC.', mimetype='text/plain', start_char_idx=0, end_char_idx=4089, text_template='{metadata_str}\\n\\n{content}', metadata_template='{key}: {value}', metadata_seperator='\\n')\n"
          ]
        }
      ],
      "source": [
        "from llama_index.core.node_parser.text.sentence import SentenceSplitter\n",
        "from llama_index.core.schema import Document\n",
        "import pprint as pp\n",
        "\n",
        "chunk_size = 1024\n",
        "chunk_overlap = 256\n",
        "\n",
        "splitter = SentenceSplitter(\n",
        "        chunk_size=chunk_size,\n",
        "        chunk_overlap=chunk_overlap,\n",
        "    )\n",
        "\n",
        "docs = splitter.get_nodes_from_documents(\n",
        "        [\n",
        "            Document(\n",
        "                text=full_pdf_content,\n",
        "                metadata={\n",
        "                    \"page\": 0,\n",
        "                    #\"file_name\": f\"{metadata_file_name}\",\n",
        "                    \"source\": \"text\",\n",
        "                    \"document_id\": f\"some_id\",\n",
        "                },\n",
        "                excluded_embed_metadata_keys=[\"page\", \"source\", \"document_id\"],\n",
        "                excluded_llm_metadata_keys=[\"page\", \"source\", \"document_id\"],\n",
        "            )\n",
        "        ]\n",
        "    )\n",
        "pp.pprint(docs[0])"
      ]
    },
    {
      "cell_type": "code",
      "execution_count": 4,
      "metadata": {
        "id": "JKRSxBzlv98x"
      },
      "outputs": [],
      "source": [
        "from llama_index.embeddings.bedrock import BedrockEmbedding\n",
        "from llama_index.llms.bedrock import Bedrock\n",
        "from llama_index.core.llms import ChatMessage\n",
        "from llama_index.core.settings import Settings\n",
        "import boto3\n",
        "import asyncio\n",
        "import os\n",
        "\n",
        "\n",
        "os.environ[\"AWS_REGION\"] = \"us-east-1\"\n",
        "os.environ[\"AWS_ACCESS_KEY_ID\"] = \"\"\n",
        "os.environ[\"AWS_SECRET_ACCESS_KEY\"] = \"\"\n",
        "\n",
        "embed_model_id = \"amazon.titan-embed-text-v1\"\n",
        "llm_model_id = \"anthropic.claude-3-haiku-20240307-v1:0\"\n",
        "\n",
        "BEDROCK_CLIENT = boto3.client(\"bedrock-runtime\", \"us-east-1\")\n",
        "\n",
        "llm = Bedrock(\n",
        "    model=llm_model_id,\n",
        "    client=BEDROCK_CLIENT,\n",
        "    aws_region_name=\"us-east-1\",\n",
        "    temperature=0.1,\n",
        "    max_tokens=512\n",
        "    )\n",
        "\n",
        "\n",
        "embed_model = BedrockEmbedding(model=embed_model_id, client=BEDROCK_CLIENT)\n",
        "\n",
        "Settings.llm = llm\n",
        "Settings.embed_model = embed_model"
      ]
    },
    {
      "cell_type": "code",
      "execution_count": 5,
      "metadata": {
        "colab": {
          "base_uri": "https://localhost:8080/"
        },
        "id": "TzKd4HTUwAMH",
        "outputId": "b4008fe4-3f48-458a-9d33-d7f10db30df4"
      },
      "outputs": [
        {
          "output_type": "stream",
          "name": "stderr",
          "text": [
            "100%|██████████| 76/76 [04:09<00:00,  3.28s/it]  "
          ]
        },
        {
          "output_type": "stream",
          "name": "stdout",
          "text": [
            "TextNode(id_='19426ee7-846b-49a1-b9c3-93f164aa536f', embedding=None, metadata={'page': 0, 'source': 'text', 'document_id': 'some_id', 'questions_this_excerpt_can_answer': 'Based on the provided context, here are two questions that can be answered using the information given:\\n\\n1. What is the ticker symbol for Amazon.com, Inc.\\'s common stock?\\nThe context states that \"Common Stock, par value $.01 per share\" is traded under the ticker symbol \"AMZN\" on the Nasdaq Global Select Market.\\n\\n2. What was the aggregate market value of Amazon.com, Inc.\\'s voting stock held by non-affiliates as of June 30, 2022?\\nThe context provides this specific information, stating that the \"Aggregate market value of voting stock held by non-affiliates of the registrant as of June 30, 2022\" was \"$944,744,113,598\".\\n\\nHigher-level summary:\\nThe provided context is the beginning of Amazon.com, Inc.\\'s 2022 annual report (Form 10-K) filed with the U.S. Securities and Exchange Commission. It contains general information about the company, such as its legal name, headquarters location, stock exchange listing, and market capitalization data.'}, excluded_embed_metadata_keys=['page', 'source', 'document_id'], excluded_llm_metadata_keys=['page', 'source', 'document_id'], relationships={<NodeRelationship.SOURCE: '1'>: RelatedNodeInfo(node_id='ae2e97b8-252d-4011-8dd1-ce041a5a325e', node_type=<ObjectType.DOCUMENT: '4'>, metadata={'page': 0, 'source': 'text', 'document_id': 'some_id'}, hash='98b9dc512b239b5301a6757daafca0dcec035a1e353aa95f9e7dbb3bd3200805'), <NodeRelationship.NEXT: '3'>: RelatedNodeInfo(node_id='f37e2c42-8cbb-47b4-8049-d7653e247e6e', node_type=<ObjectType.TEXT: '1'>, metadata={}, hash='87c52425f841133fe345569918a8eb358dec72055a105cfcb18c67e313c0c375')}, text='Table of Contents\\nUNITED STATES\\nSECURITIES AND EXCHANGE COMMISSION\\nWashington, D.C. 20549\\n ____________________________________\\nFORM 10-K\\n____________________________________ \\n(Mark One)\\n☒\\nANNUAL REPORT PURSUANT TO SECTION 13 OR 15(d) OF THE SECURITIES EXCHANGE ACT OF 1934\\nFor the fiscal year ended December 31, 2022\\nor\\n☐\\nTRANSITION REPORT PURSUANT TO SECTION 13 OR 15(d) OF THE SECURITIES EXCHANGE ACT OF 1934\\nFor the transition period from            to             .\\nCommission File No. 000-22513\\n____________________________________\\nAMAZON.COM, INC.\\n(Exact name of registrant as specified in its charter)\\nDelaware\\n \\n91-1646860\\n(State or other jurisdiction of\\nincorporation or organization)\\n \\n(I.R.S. Employer\\nIdentification No.)\\n410 Terry Avenue North\\nSeattle, Washington 98109-5210\\n(206) 266-1000\\n(Address and telephone number, including area code, of registrant’s principal executive offices)\\nSecurities registered pursuant to Section 12(b) of the Act:\\nTitle of Each Class\\nTrading Symbol(s)\\nName of Each Exchange on Which Registered\\nCommon Stock, par value $.01 per share\\nAMZN\\nNasdaq Global Select Market\\nSecurities registered pursuant to Section 12(g) of the Act:\\nNone\\n ____________________________________\\nIndicate by check mark if the registrant is a well-known seasoned issuer, as defined in Rule 405 of the Securities Act.    Yes  ☒    No  ☐\\nIndicate by check mark if the registrant is not required to file reports pursuant to Section 13 or Section 15(d) of the Exchange Act.    Yes  ☐    No  ☒\\nIndicate by check mark whether the registrant (1) has filed all reports required to be filed by Section 13 or 15(d) of the Securities Exchange Act of 1934 during the preceding\\n12 months (or for such shorter period that the registrant was required to file such reports), and (2) has been subject to such filing requirements for the past\\n90 days.    Yes  ☒    No  ☐\\nIndicate by check mark whether the registrant has submitted electronically every Interactive Data File required to be submitted pursuant to Rule 405 of Regulation S-T\\nduring the preceding 12 months (or for such shorter period that the registrant was required to submit such files).    Yes  ☒    No  ☐\\nIndicate by check mark whether the registrant is a large accelerated filer, an accelerated filer, a non-accelerated filer, a smaller reporting company, or an emerging growth\\ncompany. See the definitions of “large accelerated filer,” “accelerated filer,” “smaller reporting company,” and “emerging growth company” in Rule 12b-2 of the Exchange Act.\\nLarge accelerated filer\\n☒\\nAccelerated filer\\n☐\\nNon-accelerated filer\\n☐\\nSmaller reporting company\\n☐\\nEmerging growth company\\n☐\\nIf an emerging growth company, indicate by check mark if the registrant has elected not to use the extended transition period for complying with any new or revised\\nfinancial accounting standards provided pursuant to Section 13(a) of the Exchange Act. ☐\\nIndicate by check mark whether the registrant has filed a report on and attestation to its management’s assessment of the effectiveness of its internal control over financial\\nreporting under Section 404(b) of the Sarbanes-Oxley Act (15 U.S.C. 7262(b)) by the registered public accounting firm that prepared or issued its audit report. ☒\\nIndicate by check mark whether the registrant is a shell company (as defined in Rule 12b-2 of the Exchange Act).    Yes  ☐    No  ☒\\nAggregate market value of voting stock held by non-affiliates of the registrant as of June 30, 2022\\n$\\n944,744,113,598 \\nNumber of shares of common stock outstanding as of January 25, 2023\\n10,247,259,757 \\n____________________________________ \\nDOCUMENTS INCORPORATED BY REFERENCE\\nThe information required by Part III of this Report, to the extent not set forth herein, is incorporated herein by reference from the registrant’s definitive proxy statement\\nrelating to the Annual Meeting of Shareholders to be held in 2023, which definitive proxy statement shall be filed with the Securities and Exchange Commission within 120 days\\nafter the end of the fiscal year to which this Report relates.\\nTable of Contents\\nAMAZON.COM, INC.', mimetype='text/plain', start_char_idx=0, end_char_idx=4089, text_template='[Excerpt from document]\\n{metadata_str}\\nExcerpt:\\n-----\\n{content}\\n-----\\n', metadata_template='{key}: {value}', metadata_seperator='\\n')\n"
          ]
        },
        {
          "output_type": "stream",
          "name": "stderr",
          "text": [
            "\n"
          ]
        }
      ],
      "source": [
        "from llama_index.core.ingestion.pipeline import IngestionPipeline\n",
        "from llama_index.core.extractors import QuestionsAnsweredExtractor\n",
        "import asyncio\n",
        "\n",
        "pipeline = IngestionPipeline(\n",
        "          transformations=[\n",
        "              QuestionsAnsweredExtractor(questions=2)\n",
        "           ]\n",
        "      )\n",
        "nodes = await pipeline.arun(nodes = docs)\n",
        "pp.pprint(nodes[0])"
      ]
    },
    {
      "cell_type": "code",
      "execution_count": 6,
      "metadata": {
        "colab": {
          "base_uri": "https://localhost:8080/"
        },
        "id": "-aYL5Xha3qg6",
        "outputId": "5a0b4b85-e16a-419a-c862-b27a46a28dd7"
      },
      "outputs": [
        {
          "output_type": "stream",
          "name": "stdout",
          "text": [
            "<llama_index.core.indices.vector_store.base.VectorStoreIndex object at 0x7dbbbc1ebdc0>\n"
          ]
        }
      ],
      "source": [
        "from llama_index.core import VectorStoreIndex\n",
        "\n",
        "index =  VectorStoreIndex(nodes)\n",
        "\n",
        "print(index)"
      ]
    },
    {
      "cell_type": "code",
      "execution_count": 7,
      "metadata": {
        "colab": {
          "base_uri": "https://localhost:8080/",
          "height": 468
        },
        "id": "hCM4tbZE4HnX",
        "outputId": "7dc7f4fb-163e-4fd0-9394-4ced58435583"
      },
      "outputs": [
        {
          "output_type": "display_data",
          "data": {
            "text/plain": [
              "<IPython.core.display.Markdown object>"
            ],
            "text/markdown": "**Prompt Key**: response_synthesizer:text_qa_template<br>**Text:** <br>"
          },
          "metadata": {}
        },
        {
          "output_type": "stream",
          "name": "stdout",
          "text": [
            "Context information is below.\n",
            "---------------------\n",
            "{context_str}\n",
            "---------------------\n",
            "Given the context information and not prior knowledge, answer the question: {query_str}\n",
            "\n"
          ]
        },
        {
          "output_type": "display_data",
          "data": {
            "text/plain": [
              "<IPython.core.display.Markdown object>"
            ],
            "text/markdown": "<br><br>"
          },
          "metadata": {}
        },
        {
          "output_type": "display_data",
          "data": {
            "text/plain": [
              "<IPython.core.display.Markdown object>"
            ],
            "text/markdown": "**Prompt Key**: response_synthesizer:refine_template<br>**Text:** <br>"
          },
          "metadata": {}
        },
        {
          "output_type": "stream",
          "name": "stdout",
          "text": [
            "The original query is as follows: {query_str}\n",
            "We have provided an existing answer: {existing_answer}\n",
            "We have the opportunity to refine the existing answer (only if needed) with some more context below.\n",
            "------------\n",
            "{context_msg}\n",
            "------------\n",
            "Given the new context, refine the original answer to better answer the query. If the context isn't useful, return the original answer.\n",
            "Refined Answer: \n"
          ]
        },
        {
          "output_type": "display_data",
          "data": {
            "text/plain": [
              "<IPython.core.display.Markdown object>"
            ],
            "text/markdown": "<br><br>"
          },
          "metadata": {}
        }
      ],
      "source": [
        "from llama_index.core import PromptTemplate\n",
        "from IPython.display import Markdown, display\n",
        "\n",
        "# define prompt viewing function\n",
        "def display_prompt_dict(prompts_dict):\n",
        "    for k, p in prompts_dict.items():\n",
        "        text_md = f\"**Prompt Key**: {k}<br>\" f\"**Text:** <br>\"\n",
        "        display(Markdown(text_md))\n",
        "        print(p.get_template())\n",
        "        display(Markdown(\"<br><br>\"))\n",
        "\n",
        "\n",
        "qa_prompt_str = (\n",
        "    \"Context information is below.\\n\"\n",
        "    \"---------------------\\n\"\n",
        "    \"{context_str}\\n\"\n",
        "    \"---------------------\\n\"\n",
        "    \"Given the context information and not prior knowledge, \"\n",
        "    \"answer the question: {query_str}\\n\"\n",
        ")\n",
        "\n",
        "text_qa_template = PromptTemplate(qa_prompt_str)\n",
        "\n",
        "query_engine = index.as_query_engine(\n",
        "    similarity_top_k=2\n",
        "    )\n",
        "\n",
        "query_engine.update_prompts(\n",
        "    {\"response_synthesizer:text_qa_template\": text_qa_template}\n",
        ")\n",
        "\n",
        "prompts_dict = query_engine.get_prompts()\n",
        "display_prompt_dict(prompts_dict)"
      ]
    },
    {
      "cell_type": "code",
      "execution_count": 8,
      "metadata": {
        "colab": {
          "base_uri": "https://localhost:8080/"
        },
        "id": "ffItYOVG8rYU",
        "outputId": "613ebb3d-122c-4b32-e803-b7beb1b0ad35"
      },
      "outputs": [
        {
          "output_type": "stream",
          "name": "stdout",
          "text": [
            "Based on the context provided, this document appears to be an excerpt from a risk factors section of a regulatory filing, likely an annual report or 10-K, for the company Amazon.\n",
            "\n",
            "The key points from the context are:\n",
            "\n",
            "1. It discusses how the seasonality of Amazon's business, particularly the holiday sales period, impacts its cash, cash equivalents, and marketable securities balances.\n",
            "\n",
            "2. It outlines risks related to Amazon's relationships with third-party sellers on its platform, including liability for unlawful activities by sellers and the need to protect its intellectual property.\n",
            "\n",
            "3. It describes risks associated with Amazon's commercial agreements, strategic alliances, and other business relationships, as well as risks related to its acquisitions and investments in other companies.\n",
            "\n",
            "So in summary, this document is focused on detailing the various risks and challenges that Amazon faces in operating its e-commerce and cloud computing businesses, particularly around seasonality, third-party relationships, and corporate development activities like partnerships and M&A.\n"
          ]
        }
      ],
      "source": [
        "question = \"What is this document about?\"\n",
        "response = query_engine.query(question)\n",
        "print(response)"
      ]
    }
  ],
  "metadata": {
    "colab": {
      "provenance": []
    },
    "kernelspec": {
      "display_name": "Python 3",
      "name": "python3"
    },
    "language_info": {
      "name": "python"
    }
  },
  "nbformat": 4,
  "nbformat_minor": 0
}