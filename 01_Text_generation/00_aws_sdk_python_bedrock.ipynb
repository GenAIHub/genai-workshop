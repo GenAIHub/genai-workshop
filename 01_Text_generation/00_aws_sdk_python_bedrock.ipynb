{
  "cells": [
    {
      "cell_type": "markdown",
      "source": [
        "<a href=\"https://colab.research.google.com/github/GenAIHub/genai-workshop/blob/main/01_Text_generation/00_aws_sdk_python_bedrock.ipynb\" target=\"_parent\"><img src=\"https://colab.research.google.com/assets/colab-badge.svg\" alt=\"Open In Colab\"/></a>"
      ],
      "metadata": {
        "id": "8nceGqalR_ui"
      }
    },
    {
      "cell_type": "markdown",
      "metadata": {
        "id": "UDPvyYNZWsmT"
      },
      "source": [
        "# AWS SDK for Python (Boto3) - Bedrock Basic Usage with Access Keys"
      ]
    },
    {
      "cell_type": "code",
      "execution_count": 1,
      "metadata": {
        "colab": {
          "base_uri": "https://localhost:8080/"
        },
        "collapsed": true,
        "id": "b7-q3K0dW_eV",
        "outputId": "8c575369-fbe3-4dee-8fbe-8aa6080eae7f"
      },
      "outputs": [
        {
          "output_type": "stream",
          "name": "stdout",
          "text": [
            "Collecting boto3\n",
            "  Downloading boto3-1.34.146-py3-none-any.whl (139 kB)\n",
            "\u001b[2K     \u001b[90m━━━━━━━━━━━━━━━━━━━━━━━━━━━━━━━━━━━━━━━━\u001b[0m \u001b[32m139.2/139.2 kB\u001b[0m \u001b[31m1.1 MB/s\u001b[0m eta \u001b[36m0:00:00\u001b[0m\n",
            "\u001b[?25hCollecting botocore<1.35.0,>=1.34.146 (from boto3)\n",
            "  Downloading botocore-1.34.146-py3-none-any.whl (12.4 MB)\n",
            "\u001b[2K     \u001b[90m━━━━━━━━━━━━━━━━━━━━━━━━━━━━━━━━━━━━━━━━\u001b[0m \u001b[32m12.4/12.4 MB\u001b[0m \u001b[31m21.2 MB/s\u001b[0m eta \u001b[36m0:00:00\u001b[0m\n",
            "\u001b[?25hCollecting jmespath<2.0.0,>=0.7.1 (from boto3)\n",
            "  Downloading jmespath-1.0.1-py3-none-any.whl (20 kB)\n",
            "Collecting s3transfer<0.11.0,>=0.10.0 (from boto3)\n",
            "  Downloading s3transfer-0.10.2-py3-none-any.whl (82 kB)\n",
            "\u001b[2K     \u001b[90m━━━━━━━━━━━━━━━━━━━━━━━━━━━━━━━━━━━━━━━━\u001b[0m \u001b[32m82.7/82.7 kB\u001b[0m \u001b[31m5.9 MB/s\u001b[0m eta \u001b[36m0:00:00\u001b[0m\n",
            "\u001b[?25hRequirement already satisfied: python-dateutil<3.0.0,>=2.1 in /usr/local/lib/python3.10/dist-packages (from botocore<1.35.0,>=1.34.146->boto3) (2.8.2)\n",
            "Requirement already satisfied: urllib3!=2.2.0,<3,>=1.25.4 in /usr/local/lib/python3.10/dist-packages (from botocore<1.35.0,>=1.34.146->boto3) (2.0.7)\n",
            "Requirement already satisfied: six>=1.5 in /usr/local/lib/python3.10/dist-packages (from python-dateutil<3.0.0,>=2.1->botocore<1.35.0,>=1.34.146->boto3) (1.16.0)\n",
            "Installing collected packages: jmespath, botocore, s3transfer, boto3\n",
            "Successfully installed boto3-1.34.146 botocore-1.34.146 jmespath-1.0.1 s3transfer-0.10.2\n",
            "Requirement already satisfied: botocore in /usr/local/lib/python3.10/dist-packages (1.34.146)\n",
            "Requirement already satisfied: jmespath<2.0.0,>=0.7.1 in /usr/local/lib/python3.10/dist-packages (from botocore) (1.0.1)\n",
            "Requirement already satisfied: python-dateutil<3.0.0,>=2.1 in /usr/local/lib/python3.10/dist-packages (from botocore) (2.8.2)\n",
            "Requirement already satisfied: urllib3!=2.2.0,<3,>=1.25.4 in /usr/local/lib/python3.10/dist-packages (from botocore) (2.0.7)\n",
            "Requirement already satisfied: six>=1.5 in /usr/local/lib/python3.10/dist-packages (from python-dateutil<3.0.0,>=2.1->botocore) (1.16.0)\n"
          ]
        }
      ],
      "source": [
        "!pip install boto3\n",
        "!pip install botocore"
      ]
    },
    {
      "cell_type": "code",
      "execution_count": 2,
      "metadata": {
        "id": "XXz5xWSkW6dP"
      },
      "outputs": [],
      "source": [
        "import boto3\n",
        "import botocore\n",
        "import json"
      ]
    },
    {
      "cell_type": "markdown",
      "metadata": {
        "id": "yRxbjMLpO6M4"
      },
      "source": [
        "## AWS env config"
      ]
    },
    {
      "cell_type": "code",
      "execution_count": 3,
      "metadata": {
        "id": "5ahrkdecO_kR"
      },
      "outputs": [],
      "source": [
        "aws_access_key_id=\"Update_with_aws_access_key_id\"\n",
        "aws_secret_access_key=\"Update_with_aws_secret_access_key\"\n",
        "region_name=\"us-east-1\""
      ]
    },
    {
      "cell_type": "markdown",
      "metadata": {
        "id": "O0_dQy-YZezy"
      },
      "source": [
        "## Create a Boto3 client for Bedrock Runtime"
      ]
    },
    {
      "cell_type": "code",
      "execution_count": 4,
      "metadata": {
        "id": "UfMTg4ntZgki"
      },
      "outputs": [],
      "source": [
        "client = boto3.client(\n",
        "    'bedrock-runtime',\n",
        "    aws_access_key_id=aws_access_key_id,\n",
        "    aws_secret_access_key=aws_secret_access_key,\n",
        "    region_name=region_name\n",
        ")"
      ]
    },
    {
      "cell_type": "markdown",
      "metadata": {
        "id": "_oOegBdAGu9q"
      },
      "source": [
        "## Configure Model\n",
        "\n",
        "Supported foundation models in Amazon Bedrock:\n",
        "https://docs.aws.amazon.com/bedrock/latest/userguide/models-supported.html\n",
        "\n",
        "Amazon Bedrock model IDs:\n",
        "https://docs.aws.amazon.com/bedrock/latest/userguide/model-ids.html\n"
      ]
    },
    {
      "cell_type": "code",
      "execution_count": 5,
      "metadata": {
        "id": "qHxR0KkdZ1_l"
      },
      "outputs": [],
      "source": [
        "# Specify the model ID\n",
        "model_id = 'anthropic.claude-3-sonnet-20240229-v1:0'"
      ]
    },
    {
      "cell_type": "markdown",
      "metadata": {
        "id": "m2eqFUVJHFwD"
      },
      "source": [
        "## Configure Prompts, prepare input and Invoke the model for inference"
      ]
    },
    {
      "cell_type": "code",
      "execution_count": 6,
      "metadata": {
        "colab": {
          "base_uri": "https://localhost:8080/"
        },
        "id": "XezxOQxEqe7l",
        "outputId": "cf895914-0469-4c3f-b97b-e68cd44af678"
      },
      "outputs": [
        {
          "output_type": "stream",
          "name": "stdout",
          "text": [
            "{\n",
            "    \"id\": \"msg_bdrk_01VytrsCkeVy9BNoGuMX7KXo\",\n",
            "    \"type\": \"message\",\n",
            "    \"role\": \"assistant\",\n",
            "    \"model\": \"claude-3-sonnet-20240229\",\n",
            "    \"content\": [\n",
            "        {\n",
            "            \"type\": \"text\",\n",
            "            \"text\": \"Ahoy, matey! 'Tis time fer a tale o' high seas adventure an' darin' pirateers. Gather 'round an' lend an ear to this salty yarn...\\n\\n'Twas a misty morn when our gallant ship, the Crimson Scourge, set sail from Tortuga. The salty sea dogs aboard were thirstin' fer plunder an' glory! Our cap'n, a scurvy bilge rat by th' name o' Redbeard, led us onward toward th' horizon in search o' fabled treasures.\\n\\nAfter many a day o' sailin' an' countless tankards o' grog, we spotted a Spanish galleon heavy with Aztec gold! \\\"All hands on deck!\\\" Redbeard bellowed. Cannons blazed as we pulled alongside the doomed vessel. With cutlasses drawn, we scurvy dogs swung across an' overwhelmed the crew! \\n\\nSoon that galleon's hold were ours, brimmin' with jewels an' pieces o' eight more plentiful than a drunken sailor could dream! We lit the ship ablaze, our spoils secured, as Redbeard shouted victoriously. \\\"That be the price ye pay when ye cross the path o' the Crimson Scourge! Now onwards, me hearties! The horizon calls!\\\"\\n\\nSo what say ye, landlubber? Care to join the next voyage o' the Crimson Scourge an' her mighty crew?\"\n",
            "        }\n",
            "    ],\n",
            "    \"stop_reason\": \"end_turn\",\n",
            "    \"stop_sequence\": null,\n",
            "    \"usage\": {\n",
            "        \"input_tokens\": 32,\n",
            "        \"output_tokens\": 347\n",
            "    }\n",
            "}\n"
          ]
        }
      ],
      "source": [
        "# System and user prompts\n",
        "system_prompt = \"All your output must be pirate speech 🦜\"\n",
        "user_prompt = \"Tell me a story.\"\n",
        "prompt = \"System:\" + system_prompt + \"\\n\\nHuman: \" + user_prompt + \"\\n\\nAssistant:\"\n",
        "\n",
        "# Prepare the input data in the required format\n",
        "input_data = {\n",
        "    \"messages\": [\n",
        "        {\"role\": \"user\", \"content\": prompt}\n",
        "    ],\n",
        "    \"anthropic_version\": \"bedrock-2023-05-31\",\n",
        "    \"max_tokens\": 2000\n",
        "}\n",
        "\n",
        "# Convert input data to JSON string\n",
        "input_data_json = json.dumps(input_data)\n",
        "\n",
        "# Invoke the model for inference\n",
        "response = client.invoke_model(\n",
        "    contentType='application/json',\n",
        "    body=input_data_json,\n",
        "    modelId=model_id\n",
        ")\n",
        "\n",
        "# Retrieve and process the inference response\n",
        "inference_result = response['body'].read().decode('utf-8')\n",
        "\n",
        "# Parse the JSON result\n",
        "parsed_result = json.loads(inference_result)\n",
        "\n",
        "# Pretty-print the JSON result\n",
        "print(json.dumps(parsed_result, indent=4))\n"
      ]
    },
    {
      "cell_type": "code",
      "source": [
        "# Print result\n",
        "print(parsed_result[\"content\"][0][\"text\"])"
      ],
      "metadata": {
        "id": "gCGWrV1gP1rn",
        "outputId": "580327ec-00c2-4d9a-f808-213ea121db59",
        "colab": {
          "base_uri": "https://localhost:8080/"
        }
      },
      "execution_count": 11,
      "outputs": [
        {
          "output_type": "stream",
          "name": "stdout",
          "text": [
            "Ahoy, matey! 'Tis time fer a tale o' high seas adventure an' darin' pirateers. Gather 'round an' lend an ear to this salty yarn...\n",
            "\n",
            "'Twas a misty morn when our gallant ship, the Crimson Scourge, set sail from Tortuga. The salty sea dogs aboard were thirstin' fer plunder an' glory! Our cap'n, a scurvy bilge rat by th' name o' Redbeard, led us onward toward th' horizon in search o' fabled treasures.\n",
            "\n",
            "After many a day o' sailin' an' countless tankards o' grog, we spotted a Spanish galleon heavy with Aztec gold! \"All hands on deck!\" Redbeard bellowed. Cannons blazed as we pulled alongside the doomed vessel. With cutlasses drawn, we scurvy dogs swung across an' overwhelmed the crew! \n",
            "\n",
            "Soon that galleon's hold were ours, brimmin' with jewels an' pieces o' eight more plentiful than a drunken sailor could dream! We lit the ship ablaze, our spoils secured, as Redbeard shouted victoriously. \"That be the price ye pay when ye cross the path o' the Crimson Scourge! Now onwards, me hearties! The horizon calls!\"\n",
            "\n",
            "So what say ye, landlubber? Care to join the next voyage o' the Crimson Scourge an' her mighty crew?\n"
          ]
        }
      ]
    }
  ],
  "metadata": {
    "colab": {
      "provenance": []
    },
    "kernelspec": {
      "display_name": "Python 3",
      "name": "python3"
    },
    "language_info": {
      "name": "python"
    }
  },
  "nbformat": 4,
  "nbformat_minor": 0
}