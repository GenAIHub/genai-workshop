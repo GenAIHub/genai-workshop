{
  "cells": [
    {
      "cell_type": "markdown",
      "metadata": {
        "id": "UDPvyYNZWsmT"
      },
      "source": [
        "# LlamaIndex - Bedrock Basic Usage with Access Keys"
      ]
    },
    {
      "cell_type": "code",
      "execution_count": null,
      "metadata": {
        "colab": {
          "base_uri": "https://localhost:8080/"
        },
        "collapsed": true,
        "id": "b7-q3K0dW_eV",
        "outputId": "7cfede54-dcb4-45e3-9fa5-599ac7f6c91d"
      },
      "outputs": [],
      "source": [
        "!pip install llama-index-llms-bedrock"
      ]
    },
    {
      "cell_type": "code",
      "execution_count": 27,
      "metadata": {
        "id": "XXz5xWSkW6dP"
      },
      "outputs": [],
      "source": [
        "from llama_index.llms.bedrock import Bedrock\n",
        "from llama_index.core.llms import ChatMessage"
      ]
    },
    {
      "cell_type": "markdown",
      "metadata": {
        "id": "yRxbjMLpO6M4"
      },
      "source": [
        "## AWS env config"
      ]
    },
    {
      "cell_type": "code",
      "execution_count": 28,
      "metadata": {
        "id": "5ahrkdecO_kR"
      },
      "outputs": [],
      "source": [
        "aws_access_key_id=\"Update with aws_access_key_id\"\n",
        "aws_secret_access_key=\"Update with aws_secret_access_key\"\n",
        "region_name=\"us-east-1\""
      ]
    },
    {
      "cell_type": "markdown",
      "metadata": {
        "id": "_oOegBdAGu9q"
      },
      "source": [
        "## Configure Model\n",
        "\n",
        "Supported foundation models in Amazon Bedrock:\n",
        "https://docs.aws.amazon.com/bedrock/latest/userguide/models-supported.html\n",
        "\n",
        "Amazon Bedrock model IDs:\n",
        "https://docs.aws.amazon.com/bedrock/latest/userguide/model-ids.html\n"
      ]
    },
    {
      "cell_type": "code",
      "execution_count": 29,
      "metadata": {
        "id": "Hh3AiWaYWsmU",
        "vscode": {
          "languageId": "plaintext"
        }
      },
      "outputs": [],
      "source": [
        "llm = Bedrock(\n",
        "    model=\"anthropic.claude-3-sonnet-20240229-v1:0\",\n",
        "    aws_access_key_id=aws_access_key_id,\n",
        "    aws_secret_access_key=aws_secret_access_key,\n",
        "    region_name=region_name,\n",
        "    temperature=0.1,\n",
        "    max_tokens=512\n",
        "    )"
      ]
    },
    {
      "cell_type": "markdown",
      "metadata": {
        "id": "m2eqFUVJHFwD"
      },
      "source": [
        "## Configure Prompts and Call chat with a list of messages"
      ]
    },
    {
      "cell_type": "code",
      "execution_count": 30,
      "metadata": {
        "colab": {
          "base_uri": "https://localhost:8080/"
        },
        "id": "XezxOQxEqe7l",
        "outputId": "ef66eb07-3cb7-4c90-eb7d-03eb2d4efa30"
      },
      "outputs": [
        {
          "name": "stdout",
          "output_type": "stream",
          "text": [
            "assistant: 🏴‍☠️ Ahoy matey! 'Tis time fer a tale o' high seas adventure! 🌊\n",
            "\n",
            "Once upon a time, a salty sea dog named Cap'n Redbeard set sail on 'is trusty ship, the Crimson Tide. With a scurvy crew o' bilge rats, they scoured the vast blue in search o' treasure.\n",
            "\n",
            "One day, as they sailed past the dreaded Skeleton Isles, a mighty storm brewed on the horizon. Thunderous waves tossed the ship like a toy, while blinding rain pelted the decks. \n",
            "\n",
            "\"Batten down the hatches, ye scurvy dogs!\" Redbeard bellowed through the gale. \"We'll not be sendin' the Crimson Tide to Davy Jones' locker this night!\"\n",
            "\n",
            "The crew battled the tempest with all their might, haulin' on lines and securin' the rigging. But the storm proved too fierce - a massive wave crashed over the bow, sweeping half the men overboard!\n",
            "\n",
            "Just when all seemed lost, a ghostly light flickered in the distance. 'Twas the eerie glow of a mysterious island, ringed by jagged rocks. With no other choice, Redbeard steered his battered ship toward the strange shore.\n",
            "\n",
            "Upon the beach, the exhausted crew collapsed. But their respite was short-lived, fer the island were home to a tribe o' savage cannibals! Spears and war cries filled the air as the painted warriors closed in...\n",
            "\n",
            "Arrr, but that be a tale for another night, mateys! This saltwater-logged pirate needs a bottle o' rum to wet his whistle afore spinnin' more yarns! 🍻\n"
          ]
        }
      ],
      "source": [
        "system_prompt=\"All your output must be pirate speech 🦜\"\n",
        "user_prompt = \"Tell me a story.\"\n",
        "\n",
        "resp = llm.chat(\n",
        "    [\n",
        "    ChatMessage(role=\"system\", content=system_prompt),\n",
        "    ChatMessage(role=\"user\", content=user_prompt),\n",
        "    ]\n",
        ")\n",
        "\n",
        "print(resp)"
      ]
    }
  ],
  "metadata": {
    "colab": {
      "provenance": [],
      "toc_visible": true
    },
    "kernelspec": {
      "display_name": "Python 3",
      "name": "python3"
    },
    "language_info": {
      "name": "python"
    }
  },
  "nbformat": 4,
  "nbformat_minor": 0
}
