{
  "cells": [
    {
      "cell_type": "markdown",
      "metadata": {
        "id": "UDPvyYNZWsmT"
      },
      "source": [
        "# LlamaIndex - Bedrock Basic Usage with Access Keys"
      ]
    },
    {
      "cell_type": "code",
      "execution_count": 26,
      "metadata": {
        "colab": {
          "base_uri": "https://localhost:8080/"
        },
        "collapsed": true,
        "id": "b7-q3K0dW_eV",
        "outputId": "7cfede54-dcb4-45e3-9fa5-599ac7f6c91d"
      },
      "outputs": [
        {
          "name": "stdout",
          "output_type": "stream",
          "text": [
            "Requirement already satisfied: llama-index-llms-bedrock in /usr/local/lib/python3.10/dist-packages (0.1.8)\n",
            "Requirement already satisfied: boto3<2.0.0,>=1.34.26 in /usr/local/lib/python3.10/dist-packages (from llama-index-llms-bedrock) (1.34.113)\n",
            "Requirement already satisfied: llama-index-core<0.11.0,>=0.10.1 in /usr/local/lib/python3.10/dist-packages (from llama-index-llms-bedrock) (0.10.39.post1)\n",
            "Requirement already satisfied: llama-index-llms-anthropic<0.2.0,>=0.1.7 in /usr/local/lib/python3.10/dist-packages (from llama-index-llms-bedrock) (0.1.11)\n",
            "Requirement already satisfied: botocore<1.35.0,>=1.34.113 in /usr/local/lib/python3.10/dist-packages (from boto3<2.0.0,>=1.34.26->llama-index-llms-bedrock) (1.34.113)\n",
            "Requirement already satisfied: jmespath<2.0.0,>=0.7.1 in /usr/local/lib/python3.10/dist-packages (from boto3<2.0.0,>=1.34.26->llama-index-llms-bedrock) (1.0.1)\n",
            "Requirement already satisfied: s3transfer<0.11.0,>=0.10.0 in /usr/local/lib/python3.10/dist-packages (from boto3<2.0.0,>=1.34.26->llama-index-llms-bedrock) (0.10.1)\n",
            "Requirement already satisfied: PyYAML>=6.0.1 in /usr/local/lib/python3.10/dist-packages (from llama-index-core<0.11.0,>=0.10.1->llama-index-llms-bedrock) (6.0.1)\n",
            "Requirement already satisfied: SQLAlchemy[asyncio]>=1.4.49 in /usr/local/lib/python3.10/dist-packages (from llama-index-core<0.11.0,>=0.10.1->llama-index-llms-bedrock) (2.0.30)\n",
            "Requirement already satisfied: aiohttp<4.0.0,>=3.8.6 in /usr/local/lib/python3.10/dist-packages (from llama-index-core<0.11.0,>=0.10.1->llama-index-llms-bedrock) (3.9.5)\n",
            "Requirement already satisfied: dataclasses-json in /usr/local/lib/python3.10/dist-packages (from llama-index-core<0.11.0,>=0.10.1->llama-index-llms-bedrock) (0.6.6)\n",
            "Requirement already satisfied: deprecated>=1.2.9.3 in /usr/local/lib/python3.10/dist-packages (from llama-index-core<0.11.0,>=0.10.1->llama-index-llms-bedrock) (1.2.14)\n",
            "Requirement already satisfied: dirtyjson<2.0.0,>=1.0.8 in /usr/local/lib/python3.10/dist-packages (from llama-index-core<0.11.0,>=0.10.1->llama-index-llms-bedrock) (1.0.8)\n",
            "Requirement already satisfied: fsspec>=2023.5.0 in /usr/local/lib/python3.10/dist-packages (from llama-index-core<0.11.0,>=0.10.1->llama-index-llms-bedrock) (2023.6.0)\n",
            "Requirement already satisfied: httpx in /usr/local/lib/python3.10/dist-packages (from llama-index-core<0.11.0,>=0.10.1->llama-index-llms-bedrock) (0.27.0)\n",
            "Requirement already satisfied: llamaindex-py-client<0.2.0,>=0.1.18 in /usr/local/lib/python3.10/dist-packages (from llama-index-core<0.11.0,>=0.10.1->llama-index-llms-bedrock) (0.1.19)\n",
            "Requirement already satisfied: nest-asyncio<2.0.0,>=1.5.8 in /usr/local/lib/python3.10/dist-packages (from llama-index-core<0.11.0,>=0.10.1->llama-index-llms-bedrock) (1.6.0)\n",
            "Requirement already satisfied: networkx>=3.0 in /usr/local/lib/python3.10/dist-packages (from llama-index-core<0.11.0,>=0.10.1->llama-index-llms-bedrock) (3.3)\n",
            "Requirement already satisfied: nltk<4.0.0,>=3.8.1 in /usr/local/lib/python3.10/dist-packages (from llama-index-core<0.11.0,>=0.10.1->llama-index-llms-bedrock) (3.8.1)\n",
            "Requirement already satisfied: numpy in /usr/local/lib/python3.10/dist-packages (from llama-index-core<0.11.0,>=0.10.1->llama-index-llms-bedrock) (1.25.2)\n",
            "Requirement already satisfied: openai>=1.1.0 in /usr/local/lib/python3.10/dist-packages (from llama-index-core<0.11.0,>=0.10.1->llama-index-llms-bedrock) (1.30.3)\n",
            "Requirement already satisfied: pandas in /usr/local/lib/python3.10/dist-packages (from llama-index-core<0.11.0,>=0.10.1->llama-index-llms-bedrock) (2.0.3)\n",
            "Requirement already satisfied: pillow>=9.0.0 in /usr/local/lib/python3.10/dist-packages (from llama-index-core<0.11.0,>=0.10.1->llama-index-llms-bedrock) (9.4.0)\n",
            "Requirement already satisfied: requests>=2.31.0 in /usr/local/lib/python3.10/dist-packages (from llama-index-core<0.11.0,>=0.10.1->llama-index-llms-bedrock) (2.31.0)\n",
            "Requirement already satisfied: tenacity<9.0.0,>=8.2.0 in /usr/local/lib/python3.10/dist-packages (from llama-index-core<0.11.0,>=0.10.1->llama-index-llms-bedrock) (8.3.0)\n",
            "Requirement already satisfied: tiktoken>=0.3.3 in /usr/local/lib/python3.10/dist-packages (from llama-index-core<0.11.0,>=0.10.1->llama-index-llms-bedrock) (0.7.0)\n",
            "Requirement already satisfied: tqdm<5.0.0,>=4.66.1 in /usr/local/lib/python3.10/dist-packages (from llama-index-core<0.11.0,>=0.10.1->llama-index-llms-bedrock) (4.66.4)\n",
            "Requirement already satisfied: typing-extensions>=4.5.0 in /usr/local/lib/python3.10/dist-packages (from llama-index-core<0.11.0,>=0.10.1->llama-index-llms-bedrock) (4.11.0)\n",
            "Requirement already satisfied: typing-inspect>=0.8.0 in /usr/local/lib/python3.10/dist-packages (from llama-index-core<0.11.0,>=0.10.1->llama-index-llms-bedrock) (0.9.0)\n",
            "Requirement already satisfied: wrapt in /usr/local/lib/python3.10/dist-packages (from llama-index-core<0.11.0,>=0.10.1->llama-index-llms-bedrock) (1.14.1)\n",
            "Requirement already satisfied: anthropic<0.24.0,>=0.23.1 in /usr/local/lib/python3.10/dist-packages (from llama-index-llms-anthropic<0.2.0,>=0.1.7->llama-index-llms-bedrock) (0.23.1)\n",
            "Requirement already satisfied: aiosignal>=1.1.2 in /usr/local/lib/python3.10/dist-packages (from aiohttp<4.0.0,>=3.8.6->llama-index-core<0.11.0,>=0.10.1->llama-index-llms-bedrock) (1.3.1)\n",
            "Requirement already satisfied: attrs>=17.3.0 in /usr/local/lib/python3.10/dist-packages (from aiohttp<4.0.0,>=3.8.6->llama-index-core<0.11.0,>=0.10.1->llama-index-llms-bedrock) (23.2.0)\n",
            "Requirement already satisfied: frozenlist>=1.1.1 in /usr/local/lib/python3.10/dist-packages (from aiohttp<4.0.0,>=3.8.6->llama-index-core<0.11.0,>=0.10.1->llama-index-llms-bedrock) (1.4.1)\n",
            "Requirement already satisfied: multidict<7.0,>=4.5 in /usr/local/lib/python3.10/dist-packages (from aiohttp<4.0.0,>=3.8.6->llama-index-core<0.11.0,>=0.10.1->llama-index-llms-bedrock) (6.0.5)\n",
            "Requirement already satisfied: yarl<2.0,>=1.0 in /usr/local/lib/python3.10/dist-packages (from aiohttp<4.0.0,>=3.8.6->llama-index-core<0.11.0,>=0.10.1->llama-index-llms-bedrock) (1.9.4)\n",
            "Requirement already satisfied: async-timeout<5.0,>=4.0 in /usr/local/lib/python3.10/dist-packages (from aiohttp<4.0.0,>=3.8.6->llama-index-core<0.11.0,>=0.10.1->llama-index-llms-bedrock) (4.0.3)\n",
            "Requirement already satisfied: anyio<5,>=3.5.0 in /usr/local/lib/python3.10/dist-packages (from anthropic<0.24.0,>=0.23.1->llama-index-llms-anthropic<0.2.0,>=0.1.7->llama-index-llms-bedrock) (3.7.1)\n",
            "Requirement already satisfied: distro<2,>=1.7.0 in /usr/lib/python3/dist-packages (from anthropic<0.24.0,>=0.23.1->llama-index-llms-anthropic<0.2.0,>=0.1.7->llama-index-llms-bedrock) (1.7.0)\n",
            "Requirement already satisfied: pydantic<3,>=1.9.0 in /usr/local/lib/python3.10/dist-packages (from anthropic<0.24.0,>=0.23.1->llama-index-llms-anthropic<0.2.0,>=0.1.7->llama-index-llms-bedrock) (2.7.1)\n",
            "Requirement already satisfied: sniffio in /usr/local/lib/python3.10/dist-packages (from anthropic<0.24.0,>=0.23.1->llama-index-llms-anthropic<0.2.0,>=0.1.7->llama-index-llms-bedrock) (1.3.1)\n",
            "Requirement already satisfied: tokenizers>=0.13.0 in /usr/local/lib/python3.10/dist-packages (from anthropic<0.24.0,>=0.23.1->llama-index-llms-anthropic<0.2.0,>=0.1.7->llama-index-llms-bedrock) (0.19.1)\n",
            "Requirement already satisfied: python-dateutil<3.0.0,>=2.1 in /usr/local/lib/python3.10/dist-packages (from botocore<1.35.0,>=1.34.113->boto3<2.0.0,>=1.34.26->llama-index-llms-bedrock) (2.8.2)\n",
            "Requirement already satisfied: urllib3!=2.2.0,<3,>=1.25.4 in /usr/local/lib/python3.10/dist-packages (from botocore<1.35.0,>=1.34.113->boto3<2.0.0,>=1.34.26->llama-index-llms-bedrock) (2.0.7)\n",
            "Requirement already satisfied: certifi in /usr/local/lib/python3.10/dist-packages (from httpx->llama-index-core<0.11.0,>=0.10.1->llama-index-llms-bedrock) (2024.2.2)\n",
            "Requirement already satisfied: httpcore==1.* in /usr/local/lib/python3.10/dist-packages (from httpx->llama-index-core<0.11.0,>=0.10.1->llama-index-llms-bedrock) (1.0.5)\n",
            "Requirement already satisfied: idna in /usr/local/lib/python3.10/dist-packages (from httpx->llama-index-core<0.11.0,>=0.10.1->llama-index-llms-bedrock) (3.7)\n",
            "Requirement already satisfied: h11<0.15,>=0.13 in /usr/local/lib/python3.10/dist-packages (from httpcore==1.*->httpx->llama-index-core<0.11.0,>=0.10.1->llama-index-llms-bedrock) (0.14.0)\n",
            "Requirement already satisfied: click in /usr/local/lib/python3.10/dist-packages (from nltk<4.0.0,>=3.8.1->llama-index-core<0.11.0,>=0.10.1->llama-index-llms-bedrock) (8.1.7)\n",
            "Requirement already satisfied: joblib in /usr/local/lib/python3.10/dist-packages (from nltk<4.0.0,>=3.8.1->llama-index-core<0.11.0,>=0.10.1->llama-index-llms-bedrock) (1.4.2)\n",
            "Requirement already satisfied: regex>=2021.8.3 in /usr/local/lib/python3.10/dist-packages (from nltk<4.0.0,>=3.8.1->llama-index-core<0.11.0,>=0.10.1->llama-index-llms-bedrock) (2023.12.25)\n",
            "Requirement already satisfied: charset-normalizer<4,>=2 in /usr/local/lib/python3.10/dist-packages (from requests>=2.31.0->llama-index-core<0.11.0,>=0.10.1->llama-index-llms-bedrock) (3.3.2)\n",
            "Requirement already satisfied: greenlet!=0.4.17 in /usr/local/lib/python3.10/dist-packages (from SQLAlchemy[asyncio]>=1.4.49->llama-index-core<0.11.0,>=0.10.1->llama-index-llms-bedrock) (3.0.3)\n",
            "Requirement already satisfied: mypy-extensions>=0.3.0 in /usr/local/lib/python3.10/dist-packages (from typing-inspect>=0.8.0->llama-index-core<0.11.0,>=0.10.1->llama-index-llms-bedrock) (1.0.0)\n",
            "Requirement already satisfied: marshmallow<4.0.0,>=3.18.0 in /usr/local/lib/python3.10/dist-packages (from dataclasses-json->llama-index-core<0.11.0,>=0.10.1->llama-index-llms-bedrock) (3.21.2)\n",
            "Requirement already satisfied: pytz>=2020.1 in /usr/local/lib/python3.10/dist-packages (from pandas->llama-index-core<0.11.0,>=0.10.1->llama-index-llms-bedrock) (2023.4)\n",
            "Requirement already satisfied: tzdata>=2022.1 in /usr/local/lib/python3.10/dist-packages (from pandas->llama-index-core<0.11.0,>=0.10.1->llama-index-llms-bedrock) (2024.1)\n",
            "Requirement already satisfied: exceptiongroup in /usr/local/lib/python3.10/dist-packages (from anyio<5,>=3.5.0->anthropic<0.24.0,>=0.23.1->llama-index-llms-anthropic<0.2.0,>=0.1.7->llama-index-llms-bedrock) (1.2.1)\n",
            "Requirement already satisfied: packaging>=17.0 in /usr/local/lib/python3.10/dist-packages (from marshmallow<4.0.0,>=3.18.0->dataclasses-json->llama-index-core<0.11.0,>=0.10.1->llama-index-llms-bedrock) (24.0)\n",
            "Requirement already satisfied: annotated-types>=0.4.0 in /usr/local/lib/python3.10/dist-packages (from pydantic<3,>=1.9.0->anthropic<0.24.0,>=0.23.1->llama-index-llms-anthropic<0.2.0,>=0.1.7->llama-index-llms-bedrock) (0.7.0)\n",
            "Requirement already satisfied: pydantic-core==2.18.2 in /usr/local/lib/python3.10/dist-packages (from pydantic<3,>=1.9.0->anthropic<0.24.0,>=0.23.1->llama-index-llms-anthropic<0.2.0,>=0.1.7->llama-index-llms-bedrock) (2.18.2)\n",
            "Requirement already satisfied: six>=1.5 in /usr/local/lib/python3.10/dist-packages (from python-dateutil<3.0.0,>=2.1->botocore<1.35.0,>=1.34.113->boto3<2.0.0,>=1.34.26->llama-index-llms-bedrock) (1.16.0)\n",
            "Requirement already satisfied: huggingface-hub<1.0,>=0.16.4 in /usr/local/lib/python3.10/dist-packages (from tokenizers>=0.13.0->anthropic<0.24.0,>=0.23.1->llama-index-llms-anthropic<0.2.0,>=0.1.7->llama-index-llms-bedrock) (0.23.1)\n",
            "Requirement already satisfied: filelock in /usr/local/lib/python3.10/dist-packages (from huggingface-hub<1.0,>=0.16.4->tokenizers>=0.13.0->anthropic<0.24.0,>=0.23.1->llama-index-llms-anthropic<0.2.0,>=0.1.7->llama-index-llms-bedrock) (3.14.0)\n"
          ]
        }
      ],
      "source": [
        "!pip install llama-index-llms-bedrock"
      ]
    },
    {
      "cell_type": "code",
      "execution_count": 27,
      "metadata": {
        "id": "XXz5xWSkW6dP"
      },
      "outputs": [],
      "source": [
        "from llama_index.llms.bedrock import Bedrock\n",
        "from llama_index.core.llms import ChatMessage"
      ]
    },
    {
      "cell_type": "markdown",
      "metadata": {
        "id": "yRxbjMLpO6M4"
      },
      "source": [
        "## AWS env config"
      ]
    },
    {
      "cell_type": "code",
      "execution_count": 28,
      "metadata": {
        "id": "5ahrkdecO_kR"
      },
      "outputs": [],
      "source": [
        "aws_access_key_id=\"Update with aws_access_key_id\"\n",
        "aws_secret_access_key=\"Update with aws_secret_access_key\"\n",
        "region_name=\"us-east-1\""
      ]
    },
    {
      "cell_type": "markdown",
      "metadata": {
        "id": "_oOegBdAGu9q"
      },
      "source": [
        "## Configure Model\n",
        "\n",
        "Supported foundation models in Amazon Bedrock:\n",
        "https://docs.aws.amazon.com/bedrock/latest/userguide/models-supported.html\n",
        "\n",
        "Amazon Bedrock model IDs:\n",
        "https://docs.aws.amazon.com/bedrock/latest/userguide/model-ids.html\n"
      ]
    },
    {
      "cell_type": "code",
      "execution_count": 29,
      "metadata": {
        "id": "Hh3AiWaYWsmU",
        "vscode": {
          "languageId": "plaintext"
        }
      },
      "outputs": [],
      "source": [
        "llm = Bedrock(\n",
        "    model=\"anthropic.claude-3-sonnet-20240229-v1:0\",\n",
        "    aws_access_key_id=aws_access_key_id,\n",
        "    aws_secret_access_key=aws_secret_access_key,\n",
        "    region_name=region_name,\n",
        "    temperature=0.1,\n",
        "    max_tokens=512\n",
        "    )"
      ]
    },
    {
      "cell_type": "markdown",
      "metadata": {
        "id": "m2eqFUVJHFwD"
      },
      "source": [
        "## Configure Prompts and Call chat with a list of messages"
      ]
    },
    {
      "cell_type": "code",
      "execution_count": 30,
      "metadata": {
        "colab": {
          "base_uri": "https://localhost:8080/"
        },
        "id": "XezxOQxEqe7l",
        "outputId": "ef66eb07-3cb7-4c90-eb7d-03eb2d4efa30"
      },
      "outputs": [
        {
          "name": "stdout",
          "output_type": "stream",
          "text": [
            "assistant: 🏴‍☠️ Ahoy matey! 'Tis time fer a tale o' high seas adventure! 🌊\n",
            "\n",
            "Once upon a time, a salty sea dog named Cap'n Redbeard set sail on 'is trusty ship, the Crimson Tide. With a scurvy crew o' bilge rats, they scoured the vast blue in search o' treasure.\n",
            "\n",
            "One day, as they sailed past the dreaded Skeleton Isles, a mighty storm brewed on the horizon. Thunderous waves tossed the ship like a toy, while blinding rain pelted the decks. \n",
            "\n",
            "\"Batten down the hatches, ye scurvy dogs!\" Redbeard bellowed through the gale. \"We'll not be sendin' the Crimson Tide to Davy Jones' locker this night!\"\n",
            "\n",
            "The crew battled the tempest with all their might, haulin' on lines and securin' the rigging. But the storm proved too fierce - a massive wave crashed over the bow, sweeping half the men overboard!\n",
            "\n",
            "Just when all seemed lost, a ghostly light flickered in the distance. 'Twas the eerie glow of a mysterious island, ringed by jagged rocks. With no other choice, Redbeard steered his battered ship toward the strange shore.\n",
            "\n",
            "Upon the beach, the exhausted crew collapsed. But their respite was short-lived, fer the island were home to a tribe o' savage cannibals! Spears and war cries filled the air as the painted warriors closed in...\n",
            "\n",
            "Arrr, but that be a tale for another night, mateys! This saltwater-logged pirate needs a bottle o' rum to wet his whistle afore spinnin' more yarns! 🍻\n"
          ]
        }
      ],
      "source": [
        "system_prompt=\"All your output must be pirate speech 🦜\"\n",
        "user_prompt = \"Tell me a story.\"\n",
        "\n",
        "resp = llm.chat(\n",
        "    [\n",
        "    ChatMessage(role=\"system\", content=system_prompt),\n",
        "    ChatMessage(role=\"user\", content=user_prompt),\n",
        "    ]\n",
        ")\n",
        "\n",
        "print(resp)"
      ]
    }
  ],
  "metadata": {
    "colab": {
      "provenance": [],
      "toc_visible": true
    },
    "kernelspec": {
      "display_name": "Python 3",
      "name": "python3"
    },
    "language_info": {
      "name": "python"
    }
  },
  "nbformat": 4,
  "nbformat_minor": 0
}
