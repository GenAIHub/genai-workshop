{
  "cells": [
    {
      "cell_type": "markdown",
      "id": "6b0186a4",
      "metadata": {
        "id": "6b0186a4"
      },
      "source": [
        "<a href=\"https://colab.research.google.com/github/GenAIHub/genai-workshop/blob/main/03_Agents/04_react_agent_with_query_engine.ipynb\" target=\"_parent\"><img src=\"https://colab.research.google.com/assets/colab-badge.svg\" alt=\"Open In Colab\"/></a>"
      ]
    },
    {
      "cell_type": "markdown",
      "id": "b50c4af8-fec3-4396-860a-1322089d76cb",
      "metadata": {
        "id": "b50c4af8-fec3-4396-860a-1322089d76cb"
      },
      "source": [
        "# ReAct Agent with Query Engine (RAG) Tools\n",
        "\n",
        "In this section, we show how to setup an agent powered by the ReAct loop for financial analysis.\n",
        "\n",
        "The agent has access to two \"tools\": one to query the 2021 Lyft 10-K and the other to query the 2021 Uber 10-K."
      ]
    },
    {
      "cell_type": "markdown",
      "id": "db402a8b-90d6-4e1d-8df6-347c54624f26",
      "metadata": {
        "id": "db402a8b-90d6-4e1d-8df6-347c54624f26"
      },
      "source": [
        "## Build Query Engine Tools"
      ]
    },
    {
      "cell_type": "code",
      "execution_count": null,
      "id": "dd31aff7",
      "metadata": {
        "id": "dd31aff7"
      },
      "outputs": [],
      "source": [
        "!pip install boto3\n",
        "!pip install llama-index\n",
        "!pip install llama-index-llms-bedrock\n",
        "!pip install llama-index-embeddings-bedrock"
      ]
    },
    {
      "cell_type": "code",
      "execution_count": 9,
      "id": "02160804-64a2-4ef3-8a0d-8c16b06fd205",
      "metadata": {
        "id": "02160804-64a2-4ef3-8a0d-8c16b06fd205"
      },
      "outputs": [],
      "source": [
        "from llama_index.core import (\n",
        "    SimpleDirectoryReader,\n",
        "    VectorStoreIndex,\n",
        "    StorageContext,\n",
        "    load_index_from_storage,\n",
        ")\n",
        "\n",
        "from llama_index.core.tools import QueryEngineTool, ToolMetadata"
      ]
    },
    {
      "cell_type": "code",
      "execution_count": 10,
      "id": "HyBdlG_pQsEX",
      "metadata": {
        "id": "HyBdlG_pQsEX"
      },
      "outputs": [],
      "source": [
        "import os\n",
        "import boto3\n",
        "\n",
        "# Set AWS env config\n",
        "region_name = os.getenv(\"AWS_REGION\", \"us-east-1\")\n",
        "aws_access_key_id = os.getenv(\"AWS_ACCESS_KEY_ID\", \"\")\n",
        "aws_secret_access_key = os.getenv(\"AWS_SECRET_ACCESS_KEY\", \"\")"
      ]
    },
    {
      "cell_type": "code",
      "execution_count": 11,
      "id": "I-PlKW1IRUs5",
      "metadata": {
        "id": "I-PlKW1IRUs5"
      },
      "outputs": [],
      "source": [
        "from llama_index.llms.bedrock import Bedrock\n",
        "from llama_index.embeddings.bedrock import BedrockEmbedding\n",
        "from llama_index.core import Settings\n",
        "\n",
        "llm_model_id = \"anthropic.claude-3-sonnet-20240229-v1:0\"\n",
        "embed_model_id = \"amazon.titan-embed-text-v1\"\n",
        "\n",
        "llm = Bedrock(\n",
        "    model=llm_model_id,\n",
        "    aws_access_key_id=aws_access_key_id,\n",
        "    aws_secret_access_key=aws_secret_access_key,\n",
        "    region_name=region_name,\n",
        "    temperature=0.1,\n",
        "    max_tokens=512\n",
        "    )\n",
        "\n",
        "embed_model = BedrockEmbedding(\n",
        "    model=embed_model_id,\n",
        "    aws_access_key_id=aws_access_key_id,\n",
        "    aws_secret_access_key=aws_secret_access_key,\n",
        "    region_name=region_name,\n",
        "    )\n",
        "\n",
        "Settings.llm = llm\n",
        "Settings.embed_model = embed_model"
      ]
    },
    {
      "cell_type": "markdown",
      "id": "6a79cbc9",
      "metadata": {
        "id": "6a79cbc9"
      },
      "source": [
        "Download Data"
      ]
    },
    {
      "cell_type": "code",
      "execution_count": null,
      "id": "36d80144",
      "metadata": {
        "colab": {
          "base_uri": "https://localhost:8080/"
        },
        "id": "36d80144",
        "outputId": "f5cc5410-c224-46d1-842a-97b7d68a4a97"
      },
      "outputs": [],
      "source": [
        "!mkdir -p 'data/10k/'\n",
        "!wget 'https://raw.githubusercontent.com/run-llama/llama_index/main/docs/docs/examples/data/10k/uber_2021.pdf' -O 'data/10k/uber_2021.pdf'\n",
        "!wget 'https://raw.githubusercontent.com/run-llama/llama_index/main/docs/docs/examples/data/10k/lyft_2021.pdf' -O 'data/10k/lyft_2021.pdf'"
      ]
    },
    {
      "cell_type": "code",
      "execution_count": 13,
      "id": "d3d0bb8c-16c8-4946-a9d8-59528cf3952a",
      "metadata": {
        "id": "d3d0bb8c-16c8-4946-a9d8-59528cf3952a"
      },
      "outputs": [],
      "source": [
        "# load data\n",
        "lyft_docs = SimpleDirectoryReader(\n",
        "    input_files=[\"./data/10k/lyft_2021.pdf\"]\n",
        ").load_data()\n",
        "uber_docs = SimpleDirectoryReader(\n",
        "    input_files=[\"./data/10k/uber_2021.pdf\"]\n",
        ").load_data()\n",
        "\n",
        "# build index\n",
        "lyft_index = VectorStoreIndex.from_documents(lyft_docs)\n",
        "uber_index = VectorStoreIndex.from_documents(uber_docs)\n"
      ]
    },
    {
      "cell_type": "code",
      "execution_count": 14,
      "id": "f9f3158a-7647-4442-8de1-4db80723b4d2",
      "metadata": {
        "id": "f9f3158a-7647-4442-8de1-4db80723b4d2"
      },
      "outputs": [],
      "source": [
        "# build query engines\n",
        "lyft_engine = lyft_index.as_query_engine(similarity_top_k=3)\n",
        "uber_engine = uber_index.as_query_engine(similarity_top_k=3)\n",
        "\n",
        "query_engine_tools = [\n",
        "    QueryEngineTool(\n",
        "        query_engine=lyft_engine,\n",
        "        metadata=ToolMetadata(\n",
        "            name=\"lyft_10k\",\n",
        "            description=(\n",
        "                \"Provides information about Lyft financials for year 2021. \"\n",
        "                \"Use a detailed plain text question as input to the tool.\"\n",
        "            ),\n",
        "        ),\n",
        "    ),\n",
        "    QueryEngineTool(\n",
        "        query_engine=uber_engine,\n",
        "        metadata=ToolMetadata(\n",
        "            name=\"uber_10k\",\n",
        "            description=(\n",
        "                \"Provides information about Uber financials for year 2021. \"\n",
        "                \"Use a detailed plain text question as input to the tool.\"\n",
        "            ),\n",
        "        ),\n",
        "    ),\n",
        "]"
      ]
    },
    {
      "cell_type": "markdown",
      "id": "275c01b1-8dce-4216-9203-1e961b7fc313",
      "metadata": {
        "id": "275c01b1-8dce-4216-9203-1e961b7fc313"
      },
      "source": [
        "## Setup ReAct Agent\n",
        "\n",
        "You can **optionally** specify context which will be added to the core ReAct system prompt."
      ]
    },
    {
      "cell_type": "code",
      "execution_count": 15,
      "id": "32f71a46-bdf6-4365-b1f1-e23a0d913a3d",
      "metadata": {
        "id": "32f71a46-bdf6-4365-b1f1-e23a0d913a3d"
      },
      "outputs": [],
      "source": [
        "from llama_index.core.agent import ReActAgent"
      ]
    },
    {
      "cell_type": "code",
      "execution_count": 16,
      "id": "ded93297-fee8-4329-bf37-cf77e87621ae",
      "metadata": {
        "id": "ded93297-fee8-4329-bf37-cf77e87621ae"
      },
      "outputs": [],
      "source": [
        "# [Optional] Add Context\n",
        "# context = \"\"\"\\\n",
        "# You are a stock market sorcerer who is an expert on the companies Lyft and Uber.\\\n",
        "#     You will answer questions about Uber and Lyft as in the persona of a sorcerer \\\n",
        "#     and veteran stock market investor.\n",
        "# \"\"\"\n",
        "\n",
        "agent = ReActAgent.from_tools(\n",
        "    query_engine_tools,\n",
        "    llm=llm,\n",
        "    verbose=True,\n",
        "    # context=context\n",
        ")"
      ]
    },
    {
      "cell_type": "code",
      "execution_count": 17,
      "id": "70a82471-9226-42ad-bd8a-aebde3530d95",
      "metadata": {
        "colab": {
          "base_uri": "https://localhost:8080/"
        },
        "id": "70a82471-9226-42ad-bd8a-aebde3530d95",
        "outputId": "d3412a4e-17ff-47d5-b759-8878e68d722d"
      },
      "outputs": [
        {
          "name": "stdout",
          "output_type": "stream",
          "text": [
            "\u001b[1;3;38;5;200mThought: The current language of the user is: English. I need to use a tool to help me answer the question about Lyft's revenue growth in 2021.\n",
            "Action: lyft_10k\n",
            "Action Input: {'input': \"What was Lyft's revenue growth in 2021?\"}\n",
            "\u001b[0m\u001b[1;3;34mObservation: Based on the information provided, Lyft's revenue increased in 2021 compared to 2020, reflecting the recovery in demand for its platform as more communities reopened and travel restrictions eased during the COVID-19 pandemic recovery. However, the exact revenue growth percentage for 2021 is not explicitly stated.\n",
            "\n",
            "The context mentions that revenue per Active Rider (a key metric for Lyft) increased in each quarter of 2021 compared to the same periods in 2020, driven by factors like improvement in demand, increase in ride frequency, and shift towards higher revenue rides like airport trips. It also notes that revenues benefited from licensing and data access agreements starting in Q2 2021.\n",
            "\n",
            "While the specific revenue growth figure is not provided, the information indicates that Lyft experienced a rebound in its core ridesharing business and additional revenue streams in 2021 as the impacts of the pandemic subsided, leading to an overall increase in revenue compared to the previous year.\n",
            "\u001b[0m\u001b[1;3;38;5;200mThought: The observation from the lyft_10k tool provides useful context on Lyft's revenue performance in 2021, indicating an increase compared to 2020 driven by recovery in demand and other factors. However, it does not explicitly state the revenue growth percentage figure, which is what the original question is asking for. To fully answer the question, I need to look for the specific revenue growth number for 2021.\n",
            "Action: lyft_10k\n",
            "Action Input: {'input': \"What was the percentage increase in Lyft's total revenue in 2021 compared to 2020?\"}\n",
            "\u001b[0m\u001b[1;3;34mObservation: Unfortunately, the provided context information does not contain enough details to determine the exact percentage increase in Lyft's total revenue in 2021 compared to 2020. The information focuses on metrics like Revenue per Active Rider, Active Riders, cost of revenue, operations and support expenses, and research and development expenses. However, it does not explicitly state Lyft's total revenue numbers for 2021 and 2020 or provide the percentage change. Without those specific revenue figures, it is not possible to calculate the percentage increase in total revenue from the given context.\n",
            "\u001b[0m\u001b[1;3;38;5;200mThought: Based on the two observations from the lyft_10k tool, it does not seem to contain the specific percentage figure for Lyft's total revenue growth in 2021 compared to 2020, which is what the original question is asking for. While the tool provides useful context around Lyft's financial performance and recovery in 2021, it lacks the exact revenue growth number needed to fully answer the question.\n",
            "Thought: I cannot answer the question with the provided tools.\n",
            "Answer: Unfortunately, I do not have enough information from the provided tools to determine the exact percentage that Lyft's total revenue grew in 2021 compared to 2020. The context discusses Lyft's improving financial metrics and recovery in 2021, but does not explicitly state the year-over-year revenue growth percentage figure.\n",
            "\u001b[0mUnfortunately, I do not have enough information from the provided tools to determine the exact percentage that Lyft's total revenue grew in 2021 compared to 2020. The context discusses Lyft's improving financial metrics and recovery in 2021, but does not explicitly state the year-over-year revenue growth percentage figure.\n"
          ]
        }
      ],
      "source": [
        "response = agent.chat(\"What was Lyft's revenue growth in 2021?\")\n",
        "print(str(response))"
      ]
    },
    {
      "cell_type": "markdown",
      "id": "6fa830f5-11a5-4369-91b2-29695537debd",
      "metadata": {
        "id": "6fa830f5-11a5-4369-91b2-29695537debd"
      },
      "source": [
        "## Run Some Example Queries\n",
        "\n",
        "We run some example queries using the agent, showcasing some of the agent's abilities to do chain-of-thought-reasoning and tool use to synthesize the right answer.\n",
        "\n",
        "We also show queries."
      ]
    },
    {
      "cell_type": "code",
      "execution_count": 18,
      "id": "0873463d-4790-4c17-bfe9-2ece610fe4b3",
      "metadata": {
        "colab": {
          "base_uri": "https://localhost:8080/"
        },
        "id": "0873463d-4790-4c17-bfe9-2ece610fe4b3",
        "outputId": "65862402-0253-4863-d31c-97a9f81716e0"
      },
      "outputs": [
        {
          "name": "stdout",
          "output_type": "stream",
          "text": [
            "\u001b[1;3;38;5;200mThought: The current language of the user is: English. I need to use the tools to get information on Uber and Lyft's revenue growth in 2021 to compare and analyze them.\n",
            "Action: lyft_10k\n",
            "Action Input: {'input': \"What was Lyft's revenue growth percentage in 2021 compared to 2020?\"}\n",
            "\u001b[0m\u001b[1;3;34mObservation: Based on the information provided, Lyft's revenue increased by 36.0% in 2021 compared to 2020. The context states that revenue in 2021 was $3.2 billion, while revenue in 2020 was $2.4 billion, representing a 36.0% year-over-year increase.\n",
            "\u001b[0m\u001b[1;3;38;5;200mThought: I now have information on Lyft's revenue growth in 2021. To compare and contrast with Uber, I need to get Uber's revenue growth information as well.\n",
            "Action: uber_10k\n",
            "Action Input: {'input': \"What was Uber's revenue growth percentage in 2021 compared to 2020?\"}\n",
            "\u001b[0m\u001b[1;3;34mObservation: According to the information provided, Uber's revenue increased by 57% in 2021 compared to 2020.\n",
            "\u001b[0m\u001b[1;3;38;5;200mThought: I now have the revenue growth percentages for both Lyft and Uber in 2021. I can compare and contrast them and provide an analysis.\n",
            "Answer: In 2021, Uber experienced stronger revenue growth compared to Lyft. Uber's revenue increased by 57% year-over-year, while Lyft's revenue grew by 36%.\n",
            "\n",
            "This indicates that Uber's business recovered at a faster pace from the impacts of the COVID-19 pandemic in 2021. Uber's larger scale and diversified business model with ride-sharing and food delivery likely contributed to its higher revenue growth rate.\n",
            "\n",
            "However, it's important to note that Lyft was still able to achieve solid revenue growth of 36% in 2021, reflecting a recovery in its core ride-sharing business as pandemic restrictions eased.\n",
            "\n",
            "Overall, both companies saw significant revenue increases in 2021 as demand for their services rebounded. But Uber's stronger growth suggests it may have been better positioned to capitalize on the recovery, potentially due to its larger market presence and multi-service offerings.\n",
            "\u001b[0mIn 2021, Uber experienced stronger revenue growth compared to Lyft. Uber's revenue increased by 57% year-over-year, while Lyft's revenue grew by 36%.\n",
            "\n",
            "This indicates that Uber's business recovered at a faster pace from the impacts of the COVID-19 pandemic in 2021. Uber's larger scale and diversified business model with ride-sharing and food delivery likely contributed to its higher revenue growth rate.\n",
            "\n",
            "However, it's important to note that Lyft was still able to achieve solid revenue growth of 36% in 2021, reflecting a recovery in its core ride-sharing business as pandemic restrictions eased.\n",
            "\n",
            "Overall, both companies saw significant revenue increases in 2021 as demand for their services rebounded. But Uber's stronger growth suggests it may have been better positioned to capitalize on the recovery, potentially due to its larger market presence and multi-service offerings.\n"
          ]
        }
      ],
      "source": [
        "response = agent.chat(\n",
        "    \"Compare and contrast the revenue growth of Uber and Lyft in 2021, then\"\n",
        "    \" give an analysis\"\n",
        ")\n",
        "print(str(response))"
      ]
    },
    {
      "cell_type": "code",
      "execution_count": 19,
      "id": "9df0c999-72bd-4b25-ad37-8d42a176051a",
      "metadata": {
        "colab": {
          "base_uri": "https://localhost:8080/"
        },
        "id": "9df0c999-72bd-4b25-ad37-8d42a176051a",
        "outputId": "a7c60059-53fa-4540-80d8-418e2009be9a"
      },
      "outputs": [
        {
          "name": "stdout",
          "output_type": "stream",
          "text": [
            "\u001b[1;3;38;5;200mThought: To analyze the risk factors of the company with higher revenue in 2021 (which was Uber based on the previous analysis), I will need to use the uber_10k tool.\n",
            "Action: uber_10k\n",
            "Action Input: {'input': 'What were the major risk factors facing Uber in 2021?'}\n",
            "\u001b[0m\u001b[1;3;34mObservation: Based on the context information provided, some of the major risk factors facing Uber in 2021 included:\n",
            "\n",
            "1. Potential impact of the COVID-19 pandemic on demand for Uber's mobility services and overall business operations. The pandemic led to a significant drop in demand for ride-hailing services due to lockdowns and travel restrictions.\n",
            "\n",
            "2. Legal challenges and lawsuits related to the classification of drivers as independent contractors rather than employees in various jurisdictions. Uber was involved in numerous legal proceedings globally regarding this issue.\n",
            "\n",
            "3. Safety incidents and criminal activities involving drivers, consumers, or third parties on Uber's platform, which could harm the company's reputation and ability to attract users.\n",
            "\n",
            "4. Difficulties in attracting and retaining employees, especially if the company's stock performance does not meet expectations.\n",
            "\n",
            "5. Economic conditions affecting discretionary consumer spending on Uber's services, such as inflation, fuel costs, and other factors impacting the costs for drivers and merchants.\n",
            "\n",
            "6. Data security and privacy risks, as Uber collects and processes a significant amount of personal and confidential data, making it an attractive target for cyber attacks and data breaches.\n",
            "\u001b[0m\u001b[1;3;38;5;200mThought: The observation from the uber_10k tool provides a good overview of the major risk factors Uber faced in 2021. I now have enough information to provide an analysis.\n",
            "Thought: I can answer without using any more tools. I'll use the user's language to answer.\n",
            "Answer: Some of the key risk factors facing Uber, the company with higher revenue growth in 2021, included:\n",
            "\n",
            "1) Ongoing impacts of COVID-19 on demand for ride-hailing services as the pandemic led to lockdowns and reduced mobility. \n",
            "\n",
            "2) Legal challenges around the classification of drivers as independent contractors versus employees in various markets.\n",
            "\n",
            "3) Safety incidents and crimes involving Uber's platform, which could damage the company's reputation and user base.\n",
            "\n",
            "4) Difficulties in attracting and retaining talent, especially if the company's stock performance lags.\n",
            "\n",
            "5) Economic conditions like inflation and fuel costs affecting consumer spending on Uber's services.\n",
            "\n",
            "6) Data security and privacy risks given the large amounts of personal data Uber handles, making it a target for cyber threats.\n",
            "\n",
            "Overall, while Uber saw strong revenue recovery in 2021, it still faced significant legal, regulatory, safety, and economic risks that could impact its future growth and profitability if not managed effectively. Maintaining brand reputation, managing workforce issues, and ensuring data security were critical challenges.\n",
            "\u001b[0mSome of the key risk factors facing Uber, the company with higher revenue growth in 2021, included:\n",
            "\n",
            "1) Ongoing impacts of COVID-19 on demand for ride-hailing services as the pandemic led to lockdowns and reduced mobility. \n",
            "\n",
            "2) Legal challenges around the classification of drivers as independent contractors versus employees in various markets.\n",
            "\n",
            "3) Safety incidents and crimes involving Uber's platform, which could damage the company's reputation and user base.\n",
            "\n",
            "4) Difficulties in attracting and retaining talent, especially if the company's stock performance lags.\n",
            "\n",
            "5) Economic conditions like inflation and fuel costs affecting consumer spending on Uber's services.\n",
            "\n",
            "6) Data security and privacy risks given the large amounts of personal data Uber handles, making it a target for cyber threats.\n",
            "\n",
            "Overall, while Uber saw strong revenue recovery in 2021, it still faced significant legal, regulatory, safety, and economic risks that could impact its future growth and profitability if not managed effectively. Maintaining brand reputation, managing workforce issues, and ensuring data security were critical challenges.\n"
          ]
        }
      ],
      "source": [
        "response = agent.chat(\n",
        "    \"Can you tell me about the risk factors of the company with the higher\"\n",
        "    \" revenue?\"\n",
        ")\n",
        "print(str(response))"
      ]
    }
  ],
  "metadata": {
    "colab": {
      "provenance": []
    },
    "kernelspec": {
      "display_name": "llama_index_v2",
      "language": "python",
      "name": "llama_index_v2"
    },
    "language_info": {
      "codemirror_mode": {
        "name": "ipython",
        "version": 3
      },
      "file_extension": ".py",
      "mimetype": "text/x-python",
      "name": "python",
      "nbconvert_exporter": "python",
      "pygments_lexer": "ipython3"
    }
  },
  "nbformat": 4,
  "nbformat_minor": 5
}
