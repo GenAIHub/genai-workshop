{
  "cells": [
    {
      "cell_type": "markdown",
      "id": "781a9b75",
      "metadata": {
        "id": "781a9b75"
      },
      "source": [
        "<a href=\"https://colab.research.google.com/github/GenAIHub/genai-workshop/blob/main/03_Agents/01_10q_sub_question.ipynb\" target=\"_parent\"><img src=\"https://colab.research.google.com/assets/colab-badge.svg\" alt=\"Open In Colab\"/></a>"
      ]
    },
    {
      "cell_type": "markdown",
      "id": "64971178-177d-48ff-9c11-201f3306a6b6",
      "metadata": {
        "id": "64971178-177d-48ff-9c11-201f3306a6b6"
      },
      "source": [
        "# 10Q Analysis\n",
        "In this demo, we explore answering complex queries by decomposing them into simpler sub-queries."
      ]
    },
    {
      "cell_type": "markdown",
      "id": "036aacde",
      "metadata": {
        "id": "036aacde"
      },
      "source": [
        "If you're opening this Notebook on colab, you will probably need to install LlamaIndex 🦙."
      ]
    },
    {
      "cell_type": "code",
      "execution_count": null,
      "id": "aef714be",
      "metadata": {
        "colab": {
          "base_uri": "https://localhost:8080/"
        },
        "id": "aef714be",
        "outputId": "a8120272-3482-4fdb-b8df-b69a97ef603a"
      },
      "outputs": [],
      "source": [
        "!pip install boto3\n",
        "!pip install llama-index\n",
        "!pip install llama-index-llms-bedrock\n",
        "!pip install llama-index-embeddings-bedrock"
      ]
    },
    {
      "cell_type": "code",
      "execution_count": null,
      "id": "3edf4c98-de44-4d0b-ac7a-7273255a21cf",
      "metadata": {
        "id": "3edf4c98-de44-4d0b-ac7a-7273255a21cf"
      },
      "outputs": [],
      "source": [
        "#import nest_asyncio\n",
        "#nest_asyncio.apply()"
      ]
    },
    {
      "cell_type": "code",
      "execution_count": null,
      "id": "ae95482c-516d-41ce-8394-db949ed58716",
      "metadata": {
        "id": "ae95482c-516d-41ce-8394-db949ed58716"
      },
      "outputs": [],
      "source": [
        "from llama_index.core import SimpleDirectoryReader, VectorStoreIndex\n",
        "from llama_index.core.response.pprint_utils import pprint_response\n",
        "\n",
        "from llama_index.llms.bedrock import Bedrock\n",
        "from llama_index.embeddings.bedrock import BedrockEmbedding\n",
        "\n",
        "from llama_index.core.tools import QueryEngineTool, ToolMetadata\n",
        "from llama_index.core.query_engine import SubQuestionQueryEngine"
      ]
    },
    {
      "cell_type": "markdown",
      "id": "f2ffdb6c-b7df-4649-84d5-2b4ce32ad8a9",
      "metadata": {
        "id": "f2ffdb6c-b7df-4649-84d5-2b4ce32ad8a9"
      },
      "source": [
        "## Configure LLM service"
      ]
    },
    {
      "cell_type": "code",
      "execution_count": null,
      "id": "ca737492",
      "metadata": {
        "id": "ca737492"
      },
      "outputs": [],
      "source": [
        "import os\n",
        "import boto3\n",
        "\n",
        "# Set AWS env config\n",
        "region_name = os.getenv(\"AWS_REGION\", \"us-east-1\")\n",
        "aws_access_key_id = os.getenv(\"AWS_ACCESS_KEY_ID\", \"\")\n",
        "aws_secret_access_key = os.getenv(\"AWS_SECRET_ACCESS_KEY\", \"\")\n",
        "\n",
        "# Verify the values\n",
        "#print(\"AWS_REGION:\", os.environ[\"AWS_REGION\"])\n",
        "#print(\"AWS_ACCESS_KEY_ID:\", os.environ[\"AWS_ACCESS_KEY_ID\"])\n",
        "#print(\"AWS_SECRET_ACCESS_KEY:\", os.environ[\"AWS_SECRET_ACCESS_KEY\"])\n",
        "\n",
        "# Configure BEDROCK client\n",
        "BEDROCK_CLIENT = boto3.client(\"bedrock-runtime\", region_name)\n"
      ]
    },
    {
      "cell_type": "code",
      "execution_count": null,
      "id": "96edd29c-15b6-44f9-bae0-8a1f97e07d17",
      "metadata": {
        "id": "96edd29c-15b6-44f9-bae0-8a1f97e07d17"
      },
      "outputs": [],
      "source": [
        "from llama_index.core import Settings\n",
        "\n",
        "llm_model_id = \"anthropic.claude-3-haiku-20240307-v1:0\"\n",
        "embed_model_id = \"amazon.titan-embed-text-v1\"\n",
        "\n",
        "llm = Bedrock(\n",
        "    model=llm_model_id,\n",
        "    client=BEDROCK_CLIENT,\n",
        "    region_name=region_name,\n",
        "    temperature=0.1,\n",
        "    max_tokens=512\n",
        "    )\n",
        "\n",
        "embed_model = BedrockEmbedding(model=embed_model_id, client=BEDROCK_CLIENT)\n",
        "\n",
        "Settings.llm = llm\n",
        "Settings.embed_model = embed_model\n"
      ]
    },
    {
      "cell_type": "markdown",
      "id": "6a56b61d",
      "metadata": {
        "id": "6a56b61d"
      },
      "source": [
        "## Download Data"
      ]
    },
    {
      "cell_type": "code",
      "execution_count": null,
      "id": "00466ae7",
      "metadata": {
        "id": "00466ae7"
      },
      "outputs": [],
      "source": [
        "!mkdir -p 'data/10q/'\n",
        "!wget 'https://raw.githubusercontent.com/run-llama/llama_index/main/docs/docs/examples/data/10q/uber_10q_march_2022.pdf' -O 'data/10q/uber_10q_march_2022.pdf'\n",
        "!wget 'https://raw.githubusercontent.com/run-llama/llama_index/main/docs/docs/examples/data/10q/uber_10q_june_2022.pdf' -O 'data/10q/uber_10q_june_2022.pdf'\n",
        "!wget 'https://raw.githubusercontent.com/run-llama/llama_index/main/docs/docs/examples/data/10q/uber_10q_sept_2022.pdf' -O 'data/10q/uber_10q_sept_2022.pdf'"
      ]
    },
    {
      "cell_type": "markdown",
      "id": "e034ed70-9d74-4ded-9797-13f2cc5c5ac8",
      "metadata": {
        "id": "e034ed70-9d74-4ded-9797-13f2cc5c5ac8"
      },
      "source": [
        "## Load data"
      ]
    },
    {
      "cell_type": "code",
      "execution_count": null,
      "id": "133fc28d-65a1-4a1f-8ed0-d6fb3d4e160c",
      "metadata": {
        "id": "133fc28d-65a1-4a1f-8ed0-d6fb3d4e160c"
      },
      "outputs": [],
      "source": [
        "march_2022 = SimpleDirectoryReader(\n",
        "    input_files=[\"./data/10q/uber_10q_march_2022.pdf\"]\n",
        ").load_data()\n",
        "june_2022 = SimpleDirectoryReader(\n",
        "    input_files=[\"./data/10q/uber_10q_june_2022.pdf\"]\n",
        ").load_data()\n",
        "sept_2022 = SimpleDirectoryReader(\n",
        "    input_files=[\"./data/10q/uber_10q_sept_2022.pdf\"]\n",
        ").load_data()"
      ]
    },
    {
      "cell_type": "markdown",
      "id": "210ec44c-f559-48cb-9217-1efaca5e5362",
      "metadata": {
        "id": "210ec44c-f559-48cb-9217-1efaca5e5362"
      },
      "source": [
        "# Build indices"
      ]
    },
    {
      "cell_type": "code",
      "execution_count": null,
      "id": "3748ac62-42ab-4f4c-b40b-40313a44b80d",
      "metadata": {
        "id": "3748ac62-42ab-4f4c-b40b-40313a44b80d"
      },
      "outputs": [],
      "source": [
        "march_index = VectorStoreIndex.from_documents(march_2022)\n",
        "june_index = VectorStoreIndex.from_documents(june_2022)\n",
        "sept_index = VectorStoreIndex.from_documents(sept_2022)"
      ]
    },
    {
      "cell_type": "markdown",
      "id": "04fd6587-db6d-4782-83ad-ffc2fcd0b3a1",
      "metadata": {
        "id": "04fd6587-db6d-4782-83ad-ffc2fcd0b3a1"
      },
      "source": [
        "## Build query engines"
      ]
    },
    {
      "cell_type": "code",
      "execution_count": null,
      "id": "a2e4e609-fa2c-432f-ab93-c1607be350a1",
      "metadata": {
        "id": "a2e4e609-fa2c-432f-ab93-c1607be350a1"
      },
      "outputs": [],
      "source": [
        "march_engine = march_index.as_query_engine(similarity_top_k=3)\n",
        "june_engine = june_index.as_query_engine(similarity_top_k=3)\n",
        "sept_engine = sept_index.as_query_engine(similarity_top_k=3)"
      ]
    },
    {
      "cell_type": "code",
      "execution_count": null,
      "id": "5fccbd2c-e43f-4ec6-98d3-bdc3d97bc6cc",
      "metadata": {
        "id": "5fccbd2c-e43f-4ec6-98d3-bdc3d97bc6cc"
      },
      "outputs": [],
      "source": [
        "query_engine_tools = [\n",
        "    QueryEngineTool(\n",
        "        query_engine=sept_engine,\n",
        "        metadata=ToolMetadata(\n",
        "            name=\"sept_22\",\n",
        "            description=(\n",
        "                \"Provides information about Uber quarterly financials ending\"\n",
        "                \" September 2022\"\n",
        "            ),\n",
        "        ),\n",
        "    ),\n",
        "    QueryEngineTool(\n",
        "        query_engine=june_engine,\n",
        "        metadata=ToolMetadata(\n",
        "            name=\"june_22\",\n",
        "            description=(\n",
        "                \"Provides information about Uber quarterly financials ending\"\n",
        "                \" June 2022\"\n",
        "            ),\n",
        "        ),\n",
        "    ),\n",
        "    QueryEngineTool(\n",
        "        query_engine=march_engine,\n",
        "        metadata=ToolMetadata(\n",
        "            name=\"march_22\",\n",
        "            description=(\n",
        "                \"Provides information about Uber quarterly financials ending\"\n",
        "                \" March 2022\"\n",
        "            ),\n",
        "        ),\n",
        "    ),\n",
        "]"
      ]
    },
    {
      "cell_type": "code",
      "execution_count": null,
      "id": "3b63f755-dda4-49c8-8a00-917d3687e2c1",
      "metadata": {
        "id": "3b63f755-dda4-49c8-8a00-917d3687e2c1"
      },
      "outputs": [],
      "source": [
        "s_engine = SubQuestionQueryEngine.from_defaults(\n",
        "    query_engine_tools=query_engine_tools\n",
        ")"
      ]
    },
    {
      "cell_type": "markdown",
      "id": "0888e0b1-bcc8-4ea0-8162-f4a3eea97475",
      "metadata": {
        "id": "0888e0b1-bcc8-4ea0-8162-f4a3eea97475"
      },
      "source": [
        "## Run queries"
      ]
    },
    {
      "cell_type": "code",
      "execution_count": null,
      "id": "d0e45eb4-39f5-459f-8d57-89cf4d80bc00",
      "metadata": {
        "id": "d0e45eb4-39f5-459f-8d57-89cf4d80bc00"
      },
      "outputs": [],
      "source": [
        "response = s_engine.query(\n",
        "    \"Analyze Uber revenue growth over the latest two quarter filings\"\n",
        ")"
      ]
    },
    {
      "cell_type": "code",
      "execution_count": null,
      "id": "55c67ff8-7a7f-4032-bef8-373f0c272fd2",
      "metadata": {
        "id": "55c67ff8-7a7f-4032-bef8-373f0c272fd2"
      },
      "outputs": [],
      "source": [
        "print(response)"
      ]
    },
    {
      "cell_type": "code",
      "execution_count": null,
      "id": "0ff55b9b-2b1f-4921-bd5d-5ab04b957b30",
      "metadata": {
        "id": "0ff55b9b-2b1f-4921-bd5d-5ab04b957b30"
      },
      "outputs": [],
      "source": [
        "response = s_engine.query(\n",
        "    \"Analyze change in macro environment over the 3 quarters\"\n",
        ")"
      ]
    },
    {
      "cell_type": "code",
      "execution_count": null,
      "id": "feccbe75-0005-40de-93aa-9ed7c192dd50",
      "metadata": {
        "id": "feccbe75-0005-40de-93aa-9ed7c192dd50"
      },
      "outputs": [],
      "source": [
        "print(response)"
      ]
    },
    {
      "cell_type": "code",
      "execution_count": null,
      "id": "a20ac08f-5859-4433-9ed8-5c315a2e050b",
      "metadata": {
        "id": "a20ac08f-5859-4433-9ed8-5c315a2e050b"
      },
      "outputs": [],
      "source": [
        "response = s_engine.query(\"How much cash did Uber have in sept 2022\")"
      ]
    },
    {
      "cell_type": "code",
      "execution_count": null,
      "id": "cf67b5f4-a470-4deb-b2d8-fe752e86e170",
      "metadata": {
        "id": "cf67b5f4-a470-4deb-b2d8-fe752e86e170"
      },
      "outputs": [],
      "source": [
        "print(response)"
      ]
    }
  ],
  "metadata": {
    "colab": {
      "provenance": []
    },
    "kernelspec": {
      "display_name": "py38",
      "language": "python",
      "name": "python3"
    },
    "language_info": {
      "codemirror_mode": {
        "name": "ipython",
        "version": 3
      },
      "file_extension": ".py",
      "mimetype": "text/x-python",
      "name": "python",
      "nbconvert_exporter": "python",
      "pygments_lexer": "ipython3"
    }
  },
  "nbformat": 4,
  "nbformat_minor": 5
}
