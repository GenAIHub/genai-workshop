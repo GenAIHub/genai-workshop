{
  "cells": [
    {
      "cell_type": "markdown",
      "id": "5e0768d5",
      "metadata": {
        "id": "5e0768d5"
      },
      "source": [
        "<a href=\"https://colab.research.google.com/github/GenAIHub/genai-workshop/blob/main/03_Agents/02_simple_multistep.ipynb\" target=\"_parent\"><img src=\"https://colab.research.google.com/assets/colab-badge.svg\" alt=\"Open In Colab\"/></a>"
      ]
    },
    {
      "cell_type": "markdown",
      "id": "9c48213d-6e6a-4c10-838a-2a7c710c3a05",
      "metadata": {
        "id": "9c48213d-6e6a-4c10-838a-2a7c710c3a05"
      },
      "source": [
        "# Multi-Step Query Engine\n",
        "\n",
        "We have a multi-step query engine that's able to decompose a complex query into sequential subquestions.\n",
        "This lab walks you through how to set it up!"
      ]
    },
    {
      "cell_type": "code",
      "execution_count": null,
      "id": "20a71098",
      "metadata": {
        "id": "20a71098",
        "collapsed": true
      },
      "outputs": [],
      "source": [
        "!pip install boto3\n",
        "!pip install llama-index\n",
        "!pip install llama-index-llms-bedrock\n",
        "!pip install llama-index-embeddings-bedrock"
      ]
    },
    {
      "cell_type": "markdown",
      "id": "c5885d63",
      "metadata": {
        "id": "c5885d63"
      },
      "source": [
        "#### Download Data"
      ]
    },
    {
      "cell_type": "code",
      "execution_count": null,
      "id": "ee4ace96",
      "metadata": {
        "id": "ee4ace96"
      },
      "outputs": [],
      "source": [
        "!mkdir -p 'data/paul_graham/'\n",
        "!wget 'https://raw.githubusercontent.com/run-llama/llama_index/main/docs/docs/examples/data/paul_graham/paul_graham_essay.txt' -O 'data/paul_graham/paul_graham_essay.txt'"
      ]
    },
    {
      "cell_type": "markdown",
      "id": "50d3b817-b70e-4667-be4f-d3a0fe4bd119",
      "metadata": {
        "id": "50d3b817-b70e-4667-be4f-d3a0fe4bd119"
      },
      "source": [
        "#### Load documents, build the VectorStoreIndex"
      ]
    },
    {
      "cell_type": "code",
      "execution_count": 3,
      "id": "65ebfca2",
      "metadata": {
        "id": "65ebfca2"
      },
      "outputs": [],
      "source": [
        "import os\n",
        "import boto3\n",
        "\n",
        "# Set AWS env config\n",
        "region_name = os.getenv(\"AWS_REGION\", \"us-east-1\")\n",
        "aws_access_key_id = os.getenv(\"AWS_ACCESS_KEY_ID\", \"\")\n",
        "aws_secret_access_key = os.getenv(\"AWS_SECRET_ACCESS_KEY\", \"\")"
      ]
    },
    {
      "cell_type": "code",
      "execution_count": 4,
      "id": "ZjHJH5_A3hK7",
      "metadata": {
        "id": "ZjHJH5_A3hK7"
      },
      "outputs": [],
      "source": [
        "from llama_index.llms.bedrock import Bedrock\n",
        "from llama_index.embeddings.bedrock import BedrockEmbedding\n",
        "from llama_index.core import Settings\n",
        "\n",
        "llm_model_id = \"anthropic.claude-3-sonnet-20240229-v1:0\"\n",
        "embed_model_id = \"amazon.titan-embed-text-v1\"\n",
        "\n",
        "llm = Bedrock(\n",
        "    model=llm_model_id,\n",
        "    aws_access_key_id=aws_access_key_id,\n",
        "    aws_secret_access_key=aws_secret_access_key,\n",
        "    region_name=region_name,\n",
        "    temperature=0.1,\n",
        "    max_tokens=512\n",
        "    )\n",
        "\n",
        "embed_model = BedrockEmbedding(\n",
        "    model=embed_model_id,\n",
        "    aws_access_key_id=aws_access_key_id,\n",
        "    aws_secret_access_key=aws_secret_access_key,\n",
        "    region_name=region_name,\n",
        "    )\n",
        "\n",
        "Settings.llm = llm\n",
        "Settings.embed_model = embed_model"
      ]
    },
    {
      "cell_type": "code",
      "execution_count": 5,
      "id": "690a6918-7c75-4f95-9ccc-d2c4a1fe00d7",
      "metadata": {
        "id": "690a6918-7c75-4f95-9ccc-d2c4a1fe00d7"
      },
      "outputs": [],
      "source": [
        "from llama_index.core import VectorStoreIndex, SimpleDirectoryReader\n",
        "from IPython.display import Markdown, display"
      ]
    },
    {
      "cell_type": "code",
      "execution_count": 6,
      "id": "03d1691e-544b-454f-825b-5ee12f7faa8a",
      "metadata": {
        "id": "03d1691e-544b-454f-825b-5ee12f7faa8a"
      },
      "outputs": [],
      "source": [
        "# load documents\n",
        "documents = SimpleDirectoryReader(\"./data/paul_graham/\").load_data()"
      ]
    },
    {
      "cell_type": "code",
      "execution_count": 7,
      "id": "ad144ee7-96da-4dd6-be00-fd6cf0c78e58",
      "metadata": {
        "id": "ad144ee7-96da-4dd6-be00-fd6cf0c78e58"
      },
      "outputs": [],
      "source": [
        "index = VectorStoreIndex.from_documents(documents)"
      ]
    },
    {
      "cell_type": "markdown",
      "id": "b6caf93b-6345-4c65-a346-a95b0f1746c4",
      "metadata": {
        "id": "b6caf93b-6345-4c65-a346-a95b0f1746c4"
      },
      "source": [
        "#### Query Index"
      ]
    },
    {
      "cell_type": "code",
      "execution_count": 8,
      "id": "95d989ba-0c1d-43b6-a1d3-0ea7135f43a6",
      "metadata": {
        "id": "95d989ba-0c1d-43b6-a1d3-0ea7135f43a6"
      },
      "outputs": [],
      "source": [
        "from llama_index.core.indices.query.query_transform.base import (\n",
        "    StepDecomposeQueryTransform,\n",
        ")\n",
        "\n",
        "query_engine = index.as_query_engine(llm=llm, similarity_top_k=4)\n",
        "step_decompose_transform = StepDecomposeQueryTransform(llm=llm, verbose=True)"
      ]
    },
    {
      "cell_type": "code",
      "execution_count": 9,
      "id": "2a124db0-e2d7-4566-bcec-1d41cf669ff4",
      "metadata": {
        "id": "2a124db0-e2d7-4566-bcec-1d41cf669ff4"
      },
      "outputs": [],
      "source": [
        "index_summary = \"Used to answer questions about the author\""
      ]
    },
    {
      "cell_type": "code",
      "execution_count": 10,
      "id": "85466fdf-93f3-4cb1-a5f9-0056a8245a6f",
      "metadata": {
        "colab": {
          "base_uri": "https://localhost:8080/"
        },
        "id": "85466fdf-93f3-4cb1-a5f9-0056a8245a6f",
        "outputId": "caa8f8e8-a67c-4ae1-caf6-3c5add07b39e"
      },
      "outputs": [
        {
          "output_type": "stream",
          "name": "stdout",
          "text": [
            "\u001b[1;3;33m> Current query: Who was in the first batch of the accelerator program the author started?\n",
            "\u001b[0m\u001b[1;3;38;5;200m> New query: Given the context \"Used to answer questions about the author\" and no previous reasoning steps, the next relevant question could be:\n",
            "\n",
            "\"Did the author start an accelerator program?\"\n",
            "\n",
            "This question directly relates to the original query about who was in the first batch of an accelerator program started by the author. By confirming if the author actually started such a program, we can then potentially ask follow-up questions about the participants if the context provides that information.\n",
            "\u001b[0m\u001b[1;3;33m> Current query: Who was in the first batch of the accelerator program the author started?\n",
            "\u001b[0m\u001b[1;3;38;5;200m> New query: Based on the context provided and the previous reasoning steps, a relevant follow-up question could be:\n",
            "\n",
            "\"Who were the startups/founders in the first batch of Y Combinator in 2005?\"\n",
            "\n",
            "This directly addresses the original question of who was in the first batch of the accelerator program started by the author Paul Graham. The context mentions that the first batch in summer 2005, called the \"Summer Founders Program\", funded 8 startup groups including the founders of major companies like Reddit and Twitch. Asking specifically about the identities of those 8 startups/founders would help fully answer the original query.\n",
            "\u001b[0m\u001b[1;3;33m> Current query: Who was in the first batch of the accelerator program the author started?\n",
            "\u001b[0m\u001b[1;3;38;5;200m> New query: Based on the provided context and previous reasoning steps, a relevant follow-up question to answer the original query \"Who was in the first batch of the accelerator program the author started?\" would be:\n",
            "\n",
            "\"What were the names of the 8 startup groups funded in the first batch of Y Combinator's Summer Founders Program in 2005?\"\n",
            "\n",
            "This directly asks for the specific identities of the companies/founders that were part of the pioneering first batch of Paul Graham's accelerator program Y Combinator. The context mentions this inaugural 2005 batch included the founders of major tech companies like Reddit and Twitch, as well as future Y Combinator president Sam Altman, so listing out the names of those 8 groups would comprehensively answer who was in that first program cohort.\n",
            "\u001b[0m\u001b[1;3;33m> Current query: Who was in the first batch of the accelerator program the author started?\n",
            "\u001b[0m\u001b[1;3;38;5;200m> New query: Based on the provided context and previous reasoning steps, a relevant follow-up question to comprehensively answer the original query \"Who was in the first batch of the accelerator program the author started?\" would be:\n",
            "\n",
            "\"What were the names of all 8 startup groups/companies funded in the first batch of Y Combinator's Summer Founders Program in 2005?\"\n",
            "\n",
            "The context mentions several notable startups/founders like Reddit, Twitch, Aaron Swartz, and Sam Altman were part of that pioneering first batch. However, it does not explicitly list out the names of all 8 companies that were funded. Asking for the specific identities of those 8 startup groups would fully answer who was included in that initial accelerator program cohort started by the author Paul Graham.\n",
            "\u001b[0m"
          ]
        }
      ],
      "source": [
        "# set Logging to DEBUG for more detailed outputs\n",
        "from llama_index.core.query_engine import MultiStepQueryEngine\n",
        "\n",
        "\n",
        "query_engine = MultiStepQueryEngine(\n",
        "    query_engine=query_engine,\n",
        "    query_transform=step_decompose_transform,\n",
        "    index_summary=index_summary,\n",
        "    num_steps=4\n",
        ")\n",
        "response = query_engine.query(\n",
        "    \"Who was in the first batch of the accelerator program the author started?\",\n",
        ")"
      ]
    },
    {
      "cell_type": "code",
      "execution_count": 13,
      "id": "bdda1b2c-ae46-47cf-91d7-3153e8d0473b",
      "metadata": {
        "colab": {
          "base_uri": "https://localhost:8080/",
          "height": 162
        },
        "id": "bdda1b2c-ae46-47cf-91d7-3153e8d0473b",
        "outputId": "aab4823b-f719-4203-898c-e38ebbc52bf6"
      },
      "outputs": [
        {
          "output_type": "display_data",
          "data": {
            "text/plain": [
              "<IPython.core.display.Markdown object>"
            ],
            "text/markdown": "<b>Unfortunately, the provided context does not explicitly list out the names of all 8 startup groups that were funded in the very first batch of Y Combinator's Summer Founders Program in 2005. \n\nThe context mentions that notable companies/founders like Reddit, Twitch (founded by Justin Kan and Emmett Shear), Aaron Swartz who helped create RSS, and Sam Altman who later became Y Combinator's president, were part of that inaugural 2005 batch. \n\nHowever, it does not provide the full list of names for all 8 startups funded in that pioneering first accelerator cohort started by author Paul Graham. Without those specific details in the given context, I cannot comprehensively answer who the complete set of companies/founders were in that first Y Combinator batch.</b>"
          },
          "metadata": {}
        }
      ],
      "source": [
        "display(Markdown(f\"<b>{response}</b>\"))"
      ]
    },
    {
      "cell_type": "code",
      "execution_count": 14,
      "id": "1c9670bd-729d-478b-a77c-c6e13c282456",
      "metadata": {
        "colab": {
          "base_uri": "https://localhost:8080/"
        },
        "id": "1c9670bd-729d-478b-a77c-c6e13c282456",
        "outputId": "7c69e494-ad21-458f-a743-8d668191ac8f"
      },
      "outputs": [
        {
          "output_type": "stream",
          "name": "stdout",
          "text": [
            "[('Given the context \"Used to answer questions about the author\" and no previous reasoning steps, the next relevant question could be:\\n\\n\"Did the author start an accelerator program?\"\\n\\nThis question directly relates to the original query about who was in the first batch of an accelerator program started by the author. By confirming if the author actually started such a program, we can then potentially ask follow-up questions about the participants if the context provides that information.', 'Yes, based on the context information provided, the author Paul Graham did start an accelerator program called Y Combinator (YC). The relevant details are:\\n\\n- In March 2005, Graham, his wife Jessica Livingston, and friends Robert Morris and Trevor Blackwell decided to start their own investment firm called Y Combinator to fund and advise startups in batches.\\n\\n- In the summer of 2005, they ran the first batch called the \"Summer Founders Program\" where they funded 8 startup groups, including the founders of Reddit, Twitch, and future YC president Sam Altman. \\n\\n- Graham realized funding startups in batches was an effective way to scale startup funding and provide a supportive community for the founders.\\n\\nSo to directly answer your proposed follow-up question - yes, the author Paul Graham did start an accelerator program called Y Combinator in 2005.'), ('Based on the context provided and the previous reasoning steps, a relevant follow-up question could be:\\n\\n\"Who were the startups/founders in the first batch of Y Combinator in 2005?\"\\n\\nThis directly addresses the original question of who was in the first batch of the accelerator program started by the author Paul Graham. The context mentions that the first batch in summer 2005, called the \"Summer Founders Program\", funded 8 startup groups including the founders of major companies like Reddit and Twitch. Asking specifically about the identities of those 8 startups/founders would help fully answer the original query.', 'According to the context, the first batch of Y Combinator\\'s Summer Founders Program in 2005 included several notable startups and founders:\\n\\n- Reddit\\n- Justin Kan and Emmett Shear, who went on to found Twitch\\n- Aaron Swartz, who had helped write the RSS specification and later became an activist for open access\\n- Sam Altman, who later became the second president of Y Combinator\\n\\nThe context states that the first batch of 8 startups funded was \"an impressive group\" and that it was likely not entirely luck that led to selecting such promising founders, as they had to be \"pretty bold\" to sign up for the unconventional Summer Founders Program instead of taking a traditional summer job.'), ('Based on the provided context and previous reasoning steps, a relevant follow-up question to answer the original query \"Who was in the first batch of the accelerator program the author started?\" would be:\\n\\n\"What were the names of the 8 startup groups funded in the first batch of Y Combinator\\'s Summer Founders Program in 2005?\"\\n\\nThis directly asks for the specific identities of the companies/founders that were part of the pioneering first batch of Paul Graham\\'s accelerator program Y Combinator. The context mentions this inaugural 2005 batch included the founders of major tech companies like Reddit and Twitch, as well as future Y Combinator president Sam Altman, so listing out the names of those 8 groups would comprehensively answer who was in that first program cohort.', 'According to the context, the 8 startup groups funded in the first batch of Y Combinator\\'s Summer Founders Program in 2005 included:\\n\\n1. The founders of Reddit\\n2. Justin Kan and Emmett Shear, who went on to found Twitch\\n3. Aaron Swartz, who had helped write the RSS spec \\n4. Sam Altman, who later became the second president of Y Combinator\\n\\nThe context states this was an impressive group and that it was not entirely luck that the first batch was so good, as bold founders had to sign up for this \"weird thing\" instead of taking a conventional summer job.'), ('Based on the provided context and previous reasoning steps, a relevant follow-up question to comprehensively answer the original query \"Who was in the first batch of the accelerator program the author started?\" would be:\\n\\n\"What were the names of all 8 startup groups/companies funded in the first batch of Y Combinator\\'s Summer Founders Program in 2005?\"\\n\\nThe context mentions several notable startups/founders like Reddit, Twitch, Aaron Swartz, and Sam Altman were part of that pioneering first batch. However, it does not explicitly list out the names of all 8 companies that were funded. Asking for the specific identities of those 8 startup groups would fully answer who was included in that initial accelerator program cohort started by the author Paul Graham.', 'A relevant follow-up question to comprehensively answer who was in the first batch of Y Combinator\\'s accelerator program would be:\\n\\n\"What were the names of all 8 startup groups that were funded in Y Combinator\\'s inaugural Summer Founders Program in 2005?\"\\n\\nYou\\'re correct that while the context mentions some notable companies and founders like Reddit, Twitch, Aaron Swartz, and Sam Altman, it does not provide a complete list of the 8 startups funded in that pioneering first batch. Asking specifically for the names of those 8 groups would fully answer the original query about the composition of YC\\'s initial accelerator cohort.')]\n"
          ]
        }
      ],
      "source": [
        "sub_qa = response.metadata[\"sub_qa\"]\n",
        "tuples = [(t[0], t[1].response) for t in sub_qa]\n",
        "print(tuples)"
      ]
    }
  ],
  "metadata": {
    "colab": {
      "provenance": []
    },
    "kernelspec": {
      "display_name": "llama",
      "language": "python",
      "name": "python3"
    },
    "language_info": {
      "codemirror_mode": {
        "name": "ipython",
        "version": 3
      },
      "file_extension": ".py",
      "mimetype": "text/x-python",
      "name": "python",
      "nbconvert_exporter": "python",
      "pygments_lexer": "ipython3"
    }
  },
  "nbformat": 4,
  "nbformat_minor": 5
}