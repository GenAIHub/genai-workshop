{
  "cells": [
    {
      "cell_type": "markdown",
      "id": "76664f2c",
      "metadata": {
        "id": "76664f2c"
      },
      "source": [
        "<a href=\"https://colab.research.google.com/github/GenAIHub/genai-workshop/blob/main/03_Agents/01_10k_sub_question.ipynb\" target=\"_parent\"><img src=\"https://colab.research.google.com/assets/colab-badge.svg\" alt=\"Open In Colab\"/></a>"
      ]
    },
    {
      "cell_type": "markdown",
      "id": "0f67904b-5fd6-443f-bf10-d49a69b25fcd",
      "metadata": {
        "id": "0f67904b-5fd6-443f-bf10-d49a69b25fcd"
      },
      "source": [
        "# 10K Analysis\n",
        "In this demo, we explore answering complex queries by decomposing them into simpler sub-queries."
      ]
    },
    {
      "cell_type": "code",
      "execution_count": null,
      "id": "cfc3c897",
      "metadata": {
        "collapsed": true,
        "id": "cfc3c897"
      },
      "outputs": [],
      "source": [
        "!pip install boto3\n",
        "!pip install llama-index\n",
        "!pip install llama-index-llms-bedrock\n",
        "!pip install llama-index-embeddings-bedrock"
      ]
    },
    {
      "cell_type": "code",
      "execution_count": 2,
      "id": "09fbec4c-1864-4d76-9dbf-3d213ba58fc8",
      "metadata": {
        "id": "09fbec4c-1864-4d76-9dbf-3d213ba58fc8"
      },
      "outputs": [],
      "source": [
        "from llama_index.core import SimpleDirectoryReader, VectorStoreIndex\n",
        "\n",
        "from llama_index.core.tools import QueryEngineTool, ToolMetadata\n",
        "from llama_index.core.query_engine import SubQuestionQueryEngine"
      ]
    },
    {
      "cell_type": "markdown",
      "id": "c743f504-f28c-4802-89b6-ad152b74b0eb",
      "metadata": {
        "id": "c743f504-f28c-4802-89b6-ad152b74b0eb"
      },
      "source": [
        "## Configure LLM service"
      ]
    },
    {
      "cell_type": "code",
      "execution_count": 3,
      "id": "c4ec8b0a-d5fa-4f74-a2cc-5cc52e009bc6",
      "metadata": {
        "id": "c4ec8b0a-d5fa-4f74-a2cc-5cc52e009bc6"
      },
      "outputs": [],
      "source": [
        "import os\n",
        "import boto3\n",
        "\n",
        "# Set AWS env config\n",
        "region_name = os.getenv(\"AWS_REGION\", \"us-east-1\")\n",
        "aws_access_key_id = os.getenv(\"AWS_ACCESS_KEY_ID\", \"\")\n",
        "aws_secret_access_key = os.getenv(\"AWS_SECRET_ACCESS_KEY\", \"\")"
      ]
    },
    {
      "cell_type": "code",
      "execution_count": 4,
      "id": "EM_pUupnzLzm",
      "metadata": {
        "id": "EM_pUupnzLzm"
      },
      "outputs": [],
      "source": [
        "from llama_index.llms.bedrock import Bedrock\n",
        "from llama_index.embeddings.bedrock import BedrockEmbedding\n",
        "from llama_index.core import Settings\n",
        "\n",
        "llm_model_id = \"anthropic.claude-3-haiku-20240307-v1:0\"\n",
        "embed_model_id = \"amazon.titan-embed-text-v1\"\n",
        "\n",
        "llm = Bedrock(\n",
        "    model=llm_model_id,\n",
        "    aws_access_key_id=aws_access_key_id,\n",
        "    aws_secret_access_key=aws_secret_access_key,\n",
        "    region_name=region_name,\n",
        "    temperature=0.1,\n",
        "    max_tokens=512\n",
        "    )\n",
        "\n",
        "embed_model = BedrockEmbedding(\n",
        "    model=embed_model_id,\n",
        "    aws_access_key_id=aws_access_key_id,\n",
        "    aws_secret_access_key=aws_secret_access_key,\n",
        "    region_name=region_name,\n",
        "    )\n",
        "\n",
        "Settings.llm = llm\n",
        "Settings.embed_model = embed_model"
      ]
    },
    {
      "cell_type": "markdown",
      "id": "8c69f38a",
      "metadata": {
        "id": "8c69f38a"
      },
      "source": [
        "## Download Data"
      ]
    },
    {
      "cell_type": "code",
      "execution_count": null,
      "id": "7db55c79",
      "metadata": {
        "id": "7db55c79"
      },
      "outputs": [],
      "source": [
        "!mkdir -p 'data/10k/'\n",
        "!wget 'https://raw.githubusercontent.com/run-llama/llama_index/main/docs/docs/examples/data/10k/uber_2021.pdf' -O 'data/10k/uber_2021.pdf'\n",
        "!wget 'https://raw.githubusercontent.com/run-llama/llama_index/main/docs/docs/examples/data/10k/lyft_2021.pdf' -O 'data/10k/lyft_2021.pdf'"
      ]
    },
    {
      "cell_type": "markdown",
      "id": "71fddd07-ff4c-44d4-82af-64e2e416e853",
      "metadata": {
        "id": "71fddd07-ff4c-44d4-82af-64e2e416e853"
      },
      "source": [
        "## Load data"
      ]
    },
    {
      "cell_type": "code",
      "execution_count": 6,
      "id": "dd0ba028-1e70-4164-8af1-5f1df0ea76a9",
      "metadata": {
        "id": "dd0ba028-1e70-4164-8af1-5f1df0ea76a9"
      },
      "outputs": [],
      "source": [
        "lyft_docs = SimpleDirectoryReader(\n",
        "    input_files=[\"./data/10k/lyft_2021.pdf\"]\n",
        ").load_data()\n",
        "uber_docs = SimpleDirectoryReader(\n",
        "    input_files=[\"./data/10k/uber_2021.pdf\"]\n",
        ").load_data()"
      ]
    },
    {
      "cell_type": "markdown",
      "id": "fd122d0d-2da6-4f46-aa2a-8a0049ad8694",
      "metadata": {
        "id": "fd122d0d-2da6-4f46-aa2a-8a0049ad8694"
      },
      "source": [
        "## Build indices"
      ]
    },
    {
      "cell_type": "code",
      "execution_count": 7,
      "id": "1e0b6e4c-2255-42cf-be88-0fe75a945d85",
      "metadata": {
        "id": "1e0b6e4c-2255-42cf-be88-0fe75a945d85"
      },
      "outputs": [],
      "source": [
        "lyft_index = VectorStoreIndex.from_documents(lyft_docs)"
      ]
    },
    {
      "cell_type": "code",
      "execution_count": 8,
      "id": "a606df9c-ed2d-46fb-943e-ac47d24ba412",
      "metadata": {
        "id": "a606df9c-ed2d-46fb-943e-ac47d24ba412"
      },
      "outputs": [],
      "source": [
        "uber_index = VectorStoreIndex.from_documents(uber_docs)"
      ]
    },
    {
      "cell_type": "markdown",
      "id": "668dffa8-1eb3-4209-913a-ed7debe7bee8",
      "metadata": {
        "id": "668dffa8-1eb3-4209-913a-ed7debe7bee8"
      },
      "source": [
        "## Build query engines"
      ]
    },
    {
      "cell_type": "code",
      "execution_count": 9,
      "id": "82466534-c3d8-4619-ab1b-4abcd05c8ba7",
      "metadata": {
        "id": "82466534-c3d8-4619-ab1b-4abcd05c8ba7"
      },
      "outputs": [],
      "source": [
        "lyft_engine = lyft_index.as_query_engine(similarity_top_k=3)"
      ]
    },
    {
      "cell_type": "code",
      "execution_count": 10,
      "id": "ff449977-2c7c-433f-b303-ff1d7b66c7b3",
      "metadata": {
        "id": "ff449977-2c7c-433f-b303-ff1d7b66c7b3"
      },
      "outputs": [],
      "source": [
        "uber_engine = uber_index.as_query_engine(similarity_top_k=3)"
      ]
    },
    {
      "cell_type": "code",
      "execution_count": 11,
      "id": "8775650f-b164-478c-8129-9a8e6a0cdc97",
      "metadata": {
        "id": "8775650f-b164-478c-8129-9a8e6a0cdc97"
      },
      "outputs": [],
      "source": [
        "query_engine_tools = [\n",
        "    QueryEngineTool(\n",
        "        query_engine=lyft_engine,\n",
        "        metadata=ToolMetadata(\n",
        "            name=\"lyft_10k\",\n",
        "            description=(\n",
        "                \"Provides information about Lyft financials for year 2021\"\n",
        "            ),\n",
        "        ),\n",
        "    ),\n",
        "    QueryEngineTool(\n",
        "        query_engine=uber_engine,\n",
        "        metadata=ToolMetadata(\n",
        "            name=\"uber_10k\",\n",
        "            description=(\n",
        "                \"Provides information about Uber financials for year 2021\"\n",
        "            ),\n",
        "        ),\n",
        "    ),\n",
        "]\n",
        "\n",
        "s_engine = SubQuestionQueryEngine.from_defaults(\n",
        "    query_engine_tools=query_engine_tools,\n",
        "    use_async=False\n",
        ")"
      ]
    },
    {
      "cell_type": "markdown",
      "id": "6981caf5-38bb-4d5e-9068-b4874c62bfc9",
      "metadata": {
        "id": "6981caf5-38bb-4d5e-9068-b4874c62bfc9"
      },
      "source": [
        "## Run queries"
      ]
    },
    {
      "cell_type": "code",
      "execution_count": 12,
      "id": "edd4bbb7-eef9-4b53-b05d-f91033635ac2",
      "metadata": {
        "colab": {
          "base_uri": "https://localhost:8080/"
        },
        "id": "edd4bbb7-eef9-4b53-b05d-f91033635ac2",
        "outputId": "c7aa763a-8158-4514-b272-c6a3871658f6"
      },
      "outputs": [
        {
          "output_type": "stream",
          "name": "stdout",
          "text": [
            "Generated 4 sub questions.\n",
            "\u001b[1;3;38;2;237;90;200m[uber_10k] Q: What were Uber's fastest growing customer segments in 2021?\n",
            "\u001b[0m\u001b[1;3;38;2;237;90;200m[uber_10k] A: Based on the information provided, the context does not explicitly mention Uber's fastest growing customer segments in 2021. The context focuses on providing an overview of Uber's business segments, competitive environment, intellectual property, research and development, and seasonality. It does not provide details on Uber's specific customer growth trends in 2021.\n",
            "\u001b[0m\u001b[1;3;38;2;90;149;237m[uber_10k] Q: What were Uber's fastest growing geographies in 2021?\n",
            "\u001b[0m\u001b[1;3;38;2;90;149;237m[uber_10k] A: The context information does not provide specific details about Uber's fastest growing geographies in 2021. The information focuses on Uber's business segments, competitive environment, and the impact of the COVID-19 pandemic on the company's operations. There are no details mentioned about Uber's geographic growth trends in 2021.\n",
            "\u001b[0m\u001b[1;3;38;2;11;159;203m[lyft_10k] Q: What were Lyft's fastest growing customer segments in 2021?\n",
            "\u001b[0m\u001b[1;3;38;2;11;159;203m[lyft_10k] A: The provided context does not mention Lyft's fastest growing customer segments in 2021. The information focuses on Lyft's marketing efforts, commitment to safety, and competitive landscape, but does not specifically discuss the company's customer growth by segment during that time period.\n",
            "\u001b[0m\u001b[1;3;38;2;155;135;227m[lyft_10k] Q: What were Lyft's fastest growing geographies in 2021?\n",
            "\u001b[0m\u001b[1;3;38;2;155;135;227m[lyft_10k] A: The context information does not provide specific details about Lyft's fastest growing geographies in 2021. The information focuses on Lyft's overall business operations, including its transportation offerings, driver benefits, and challenges with international expansion. While the context mentions that Lyft launched offerings in Canada in 2017 and has several international offices, it does not identify any particular geographies as Lyft's fastest growing in 2021. Without more specific details in the provided context, I cannot confidently determine Lyft's fastest growing geographies during that time period.\n",
            "\u001b[0m"
          ]
        }
      ],
      "source": [
        "response = s_engine.query(\n",
        "    \"Compare and contrast the customer segments and geographies that grew the\"\n",
        "    \" fastest\"\n",
        ")"
      ]
    },
    {
      "cell_type": "code",
      "execution_count": 13,
      "id": "b631d68b-dd17-4afd-9ed7-da0131041c8b",
      "metadata": {
        "colab": {
          "base_uri": "https://localhost:8080/"
        },
        "id": "b631d68b-dd17-4afd-9ed7-da0131041c8b",
        "outputId": "8d3f86b7-6c35-47e4-d525-7ff7c3e9f9b1"
      },
      "outputs": [
        {
          "output_type": "stream",
          "name": "stdout",
          "text": [
            "I do not have enough information in the provided context to compare and contrast the fastest growing customer segments and geographies for Uber and Lyft in 2021. The context does not contain any details about the specific customer segments or geographic regions that experienced the fastest growth for either company during that time period. Without access to that level of detail in the given information, I cannot provide a meaningful comparison between the two companies. The context focuses more on providing an overview of the businesses, competitive environments, and operational impacts, rather than delving into the specifics of their customer and geographic growth trends in 2021.\n"
          ]
        }
      ],
      "source": [
        "print(response)"
      ]
    },
    {
      "cell_type": "code",
      "execution_count": 14,
      "id": "6bbbdd5b-0076-48c8-b233-e2ba43d7a6de",
      "metadata": {
        "colab": {
          "base_uri": "https://localhost:8080/"
        },
        "id": "6bbbdd5b-0076-48c8-b233-e2ba43d7a6de",
        "outputId": "fa47acd4-a616-4c25-85f3-27e3e628db17"
      },
      "outputs": [
        {
          "output_type": "stream",
          "name": "stdout",
          "text": [
            "Generated 2 sub questions.\n",
            "\u001b[1;3;38;2;237;90;200m[uber_10k] Q: What was Uber's revenue growth from 2020 to 2021?\n",
            "\u001b[0m\u001b[1;3;38;2;237;90;200m[uber_10k] A: Uber's revenue grew by 57% from 2020 to 2021. The context states that \"Revenue increased $6.3 billion, or 57%, primarily attributable to an increase in Gross Bookings of 56%, or 53% on a constant currency basis.\"\n",
            "\u001b[0m\u001b[1;3;38;2;90;149;237m[lyft_10k] Q: What was Lyft's revenue growth from 2020 to 2021?\n",
            "\u001b[0m\u001b[1;3;38;2;90;149;237m[lyft_10k] A: Based on the information provided in the context, Lyft's revenue growth from 2020 to 2021 cannot be determined. The context does not contain any information about Lyft's total revenue figures for 2020 and 2021. The context focuses on discussing Lyft's revenue per active rider metric, but does not provide the overall revenue numbers needed to calculate the revenue growth rate.\n",
            "\u001b[0m"
          ]
        }
      ],
      "source": [
        "response = s_engine.query(\n",
        "    \"Compare revenue growth of Uber and Lyft from 2020 to 2021\"\n",
        ")"
      ]
    },
    {
      "cell_type": "code",
      "execution_count": 15,
      "id": "fadf421e-5938-4031-81df-cfbfd347b674",
      "metadata": {
        "colab": {
          "base_uri": "https://localhost:8080/"
        },
        "id": "fadf421e-5938-4031-81df-cfbfd347b674",
        "outputId": "d2dd73cc-f91b-4188-853e-7e1fe99cd3c5"
      },
      "outputs": [
        {
          "output_type": "stream",
          "name": "stdout",
          "text": [
            "According to the provided context, Uber's revenue grew by 57% from 2020 to 2021. However, the context does not contain information about Lyft's total revenue figures for 2020 and 2021, so the revenue growth rate for Lyft cannot be determined based on the given information. Therefore, a direct comparison of the revenue growth between Uber and Lyft from 2020 to 2021 is not possible with the information available in the context.\n"
          ]
        }
      ],
      "source": [
        "print(response)"
      ]
    }
  ],
  "metadata": {
    "colab": {
      "provenance": []
    },
    "kernelspec": {
      "display_name": "Python 3 (ipykernel)",
      "language": "python",
      "name": "python3"
    },
    "language_info": {
      "codemirror_mode": {
        "name": "ipython",
        "version": 3
      },
      "file_extension": ".py",
      "mimetype": "text/x-python",
      "name": "python",
      "nbconvert_exporter": "python",
      "pygments_lexer": "ipython3"
    }
  },
  "nbformat": 4,
  "nbformat_minor": 5
}