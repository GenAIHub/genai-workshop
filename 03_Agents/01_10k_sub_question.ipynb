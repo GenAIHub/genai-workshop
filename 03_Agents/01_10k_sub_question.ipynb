{
  "cells": [
    {
      "cell_type": "markdown",
      "id": "76664f2c",
      "metadata": {
        "id": "76664f2c"
      },
      "source": [
        "<a href=\"https://colab.research.google.com/github/GenAIHub/genai-workshop/blob/main/03_Agents/01_10k_sub_question.ipynb\" target=\"_parent\"><img src=\"https://colab.research.google.com/assets/colab-badge.svg\" alt=\"Open In Colab\"/></a>"
      ]
    },
    {
      "cell_type": "markdown",
      "id": "0f67904b-5fd6-443f-bf10-d49a69b25fcd",
      "metadata": {
        "id": "0f67904b-5fd6-443f-bf10-d49a69b25fcd"
      },
      "source": [
        "# 10K Analysis\n",
        "In this demo, we explore answering complex queries by decomposing them into simpler sub-queries."
      ]
    },
    {
      "cell_type": "code",
      "execution_count": null,
      "id": "cfc3c897",
      "metadata": {
        "colab": {
          "base_uri": "https://localhost:8080/"
        },
        "collapsed": true,
        "id": "cfc3c897",
        "outputId": "c0c199a3-5a2b-4516-b506-3d38cb60ab4e"
      },
      "outputs": [],
      "source": [
        "!pip install boto3\n",
        "!pip install llama-index\n",
        "!pip install llama-index-llms-bedrock\n",
        "!pip install llama-index-embeddings-bedrock"
      ]
    },
    {
      "cell_type": "code",
      "execution_count": null,
      "id": "09fbec4c-1864-4d76-9dbf-3d213ba58fc8",
      "metadata": {
        "id": "09fbec4c-1864-4d76-9dbf-3d213ba58fc8"
      },
      "outputs": [],
      "source": [
        "from llama_index.core import SimpleDirectoryReader, VectorStoreIndex\n",
        "\n",
        "from llama_index.core.tools import QueryEngineTool, ToolMetadata\n",
        "from llama_index.core.query_engine import SubQuestionQueryEngine"
      ]
    },
    {
      "cell_type": "markdown",
      "id": "c743f504-f28c-4802-89b6-ad152b74b0eb",
      "metadata": {
        "id": "c743f504-f28c-4802-89b6-ad152b74b0eb"
      },
      "source": [
        "## Configure LLM service"
      ]
    },
    {
      "cell_type": "code",
      "execution_count": null,
      "id": "c4ec8b0a-d5fa-4f74-a2cc-5cc52e009bc6",
      "metadata": {
        "id": "c4ec8b0a-d5fa-4f74-a2cc-5cc52e009bc6"
      },
      "outputs": [],
      "source": [
        "import os\n",
        "import boto3\n",
        "\n",
        "# Set AWS env config\n",
        "region_name = os.getenv(\"AWS_REGION\", \"us-east-1\")\n",
        "aws_access_key_id = os.getenv(\"AWS_ACCESS_KEY_ID\", \"\")\n",
        "aws_secret_access_key = os.getenv(\"AWS_SECRET_ACCESS_KEY\", \"\")"
      ]
    },
    {
      "cell_type": "code",
      "execution_count": null,
      "id": "EM_pUupnzLzm",
      "metadata": {
        "id": "EM_pUupnzLzm"
      },
      "outputs": [],
      "source": [
        "from llama_index.llms.bedrock import Bedrock\n",
        "from llama_index.embeddings.bedrock import BedrockEmbedding\n",
        "from llama_index.core import Settings\n",
        "\n",
        "llm_model_id = \"anthropic.claude-3-haiku-20240307-v1:0\"\n",
        "embed_model_id = \"amazon.titan-embed-text-v1\"\n",
        "\n",
        "llm = Bedrock(\n",
        "    model=llm_model_id,\n",
        "    aws_access_key_id=aws_access_key_id,\n",
        "    aws_secret_access_key=aws_secret_access_key,\n",
        "    region_name=region_name,\n",
        "    temperature=0.1,\n",
        "    max_tokens=512\n",
        "    )\n",
        "\n",
        "embed_model = BedrockEmbedding(\n",
        "    model=embed_model_id,\n",
        "    aws_access_key_id=aws_access_key_id,\n",
        "    aws_secret_access_key=aws_secret_access_key,\n",
        "    region_name=region_name,\n",
        "    )\n",
        "\n",
        "Settings.llm = llm\n",
        "Settings.embed_model = embed_model"
      ]
    },
    {
      "cell_type": "markdown",
      "id": "8c69f38a",
      "metadata": {
        "id": "8c69f38a"
      },
      "source": [
        "## Download Data"
      ]
    },
    {
      "cell_type": "code",
      "execution_count": null,
      "id": "7db55c79",
      "metadata": {
        "colab": {
          "base_uri": "https://localhost:8080/"
        },
        "id": "7db55c79",
        "outputId": "1755424d-a469-48c8-9b08-d64a9295302f"
      },
      "outputs": [],
      "source": [
        "!mkdir -p 'data/10k/'\n",
        "!wget 'https://raw.githubusercontent.com/run-llama/llama_index/main/docs/docs/examples/data/10k/uber_2021.pdf' -O 'data/10k/uber_2021.pdf'\n",
        "!wget 'https://raw.githubusercontent.com/run-llama/llama_index/main/docs/docs/examples/data/10k/lyft_2021.pdf' -O 'data/10k/lyft_2021.pdf'"
      ]
    },
    {
      "cell_type": "markdown",
      "id": "71fddd07-ff4c-44d4-82af-64e2e416e853",
      "metadata": {
        "id": "71fddd07-ff4c-44d4-82af-64e2e416e853"
      },
      "source": [
        "## Load data"
      ]
    },
    {
      "cell_type": "code",
      "execution_count": null,
      "id": "dd0ba028-1e70-4164-8af1-5f1df0ea76a9",
      "metadata": {
        "id": "dd0ba028-1e70-4164-8af1-5f1df0ea76a9"
      },
      "outputs": [],
      "source": [
        "lyft_docs = SimpleDirectoryReader(\n",
        "    input_files=[\"./data/10k/lyft_2021.pdf\"]\n",
        ").load_data()\n",
        "uber_docs = SimpleDirectoryReader(\n",
        "    input_files=[\"./data/10k/uber_2021.pdf\"]\n",
        ").load_data()"
      ]
    },
    {
      "cell_type": "markdown",
      "id": "fd122d0d-2da6-4f46-aa2a-8a0049ad8694",
      "metadata": {
        "id": "fd122d0d-2da6-4f46-aa2a-8a0049ad8694"
      },
      "source": [
        "## Build indices"
      ]
    },
    {
      "cell_type": "code",
      "execution_count": null,
      "id": "1e0b6e4c-2255-42cf-be88-0fe75a945d85",
      "metadata": {
        "id": "1e0b6e4c-2255-42cf-be88-0fe75a945d85"
      },
      "outputs": [],
      "source": [
        "lyft_index = VectorStoreIndex.from_documents(lyft_docs)"
      ]
    },
    {
      "cell_type": "code",
      "execution_count": null,
      "id": "a606df9c-ed2d-46fb-943e-ac47d24ba412",
      "metadata": {
        "id": "a606df9c-ed2d-46fb-943e-ac47d24ba412"
      },
      "outputs": [],
      "source": [
        "uber_index = VectorStoreIndex.from_documents(uber_docs)"
      ]
    },
    {
      "cell_type": "markdown",
      "id": "668dffa8-1eb3-4209-913a-ed7debe7bee8",
      "metadata": {
        "id": "668dffa8-1eb3-4209-913a-ed7debe7bee8"
      },
      "source": [
        "## Build query engines"
      ]
    },
    {
      "cell_type": "code",
      "execution_count": null,
      "id": "82466534-c3d8-4619-ab1b-4abcd05c8ba7",
      "metadata": {
        "id": "82466534-c3d8-4619-ab1b-4abcd05c8ba7"
      },
      "outputs": [],
      "source": [
        "lyft_engine = lyft_index.as_query_engine(similarity_top_k=3)"
      ]
    },
    {
      "cell_type": "code",
      "execution_count": null,
      "id": "ff449977-2c7c-433f-b303-ff1d7b66c7b3",
      "metadata": {
        "id": "ff449977-2c7c-433f-b303-ff1d7b66c7b3"
      },
      "outputs": [],
      "source": [
        "uber_engine = uber_index.as_query_engine(similarity_top_k=3)"
      ]
    },
    {
      "cell_type": "code",
      "execution_count": null,
      "id": "8775650f-b164-478c-8129-9a8e6a0cdc97",
      "metadata": {
        "id": "8775650f-b164-478c-8129-9a8e6a0cdc97"
      },
      "outputs": [],
      "source": [
        "query_engine_tools = [\n",
        "    QueryEngineTool(\n",
        "        query_engine=lyft_engine,\n",
        "        metadata=ToolMetadata(\n",
        "            name=\"lyft_10k\",\n",
        "            description=(\n",
        "                \"Provides information about Lyft financials for year 2021\"\n",
        "            ),\n",
        "        ),\n",
        "    ),\n",
        "    QueryEngineTool(\n",
        "        query_engine=uber_engine,\n",
        "        metadata=ToolMetadata(\n",
        "            name=\"uber_10k\",\n",
        "            description=(\n",
        "                \"Provides information about Uber financials for year 2021\"\n",
        "            ),\n",
        "        ),\n",
        "    ),\n",
        "]\n",
        "\n",
        "s_engine = SubQuestionQueryEngine.from_defaults(\n",
        "    query_engine_tools=query_engine_tools,\n",
        "    use_async=False\n",
        ")"
      ]
    },
    {
      "cell_type": "markdown",
      "id": "6981caf5-38bb-4d5e-9068-b4874c62bfc9",
      "metadata": {
        "id": "6981caf5-38bb-4d5e-9068-b4874c62bfc9"
      },
      "source": [
        "## Run queries"
      ]
    },
    {
      "cell_type": "code",
      "execution_count": null,
      "id": "edd4bbb7-eef9-4b53-b05d-f91033635ac2",
      "metadata": {
        "colab": {
          "base_uri": "https://localhost:8080/"
        },
        "id": "edd4bbb7-eef9-4b53-b05d-f91033635ac2",
        "outputId": "47afccf5-cb92-47cc-ba7e-e13bdadbe204"
      },
      "outputs": [],
      "source": [
        "response = s_engine.query(\n",
        "    \"Compare and contrast the customer segments and geographies that grew the\"\n",
        "    \" fastest\"\n",
        ")"
      ]
    },
    {
      "cell_type": "code",
      "execution_count": null,
      "id": "b631d68b-dd17-4afd-9ed7-da0131041c8b",
      "metadata": {
        "colab": {
          "base_uri": "https://localhost:8080/"
        },
        "id": "b631d68b-dd17-4afd-9ed7-da0131041c8b",
        "outputId": "d16e99b9-209e-4448-a53b-2562edbbacd8"
      },
      "outputs": [],
      "source": [
        "print(response)"
      ]
    },
    {
      "cell_type": "code",
      "execution_count": null,
      "id": "6bbbdd5b-0076-48c8-b233-e2ba43d7a6de",
      "metadata": {
        "colab": {
          "base_uri": "https://localhost:8080/"
        },
        "id": "6bbbdd5b-0076-48c8-b233-e2ba43d7a6de",
        "outputId": "f30b82a8-e6c1-4e25-be44-a215e8bf9ea2"
      },
      "outputs": [],
      "source": [
        "response = s_engine.query(\n",
        "    \"Compare revenue growth of Uber and Lyft from 2020 to 2021\"\n",
        ")"
      ]
    },
    {
      "cell_type": "code",
      "execution_count": null,
      "id": "fadf421e-5938-4031-81df-cfbfd347b674",
      "metadata": {
        "colab": {
          "base_uri": "https://localhost:8080/"
        },
        "id": "fadf421e-5938-4031-81df-cfbfd347b674",
        "outputId": "df4d6d50-457d-45cf-9340-63d01d1a33e6"
      },
      "outputs": [],
      "source": [
        "print(response)"
      ]
    }
  ],
  "metadata": {
    "colab": {
      "provenance": []
    },
    "kernelspec": {
      "display_name": "Python 3 (ipykernel)",
      "language": "python",
      "name": "python3"
    },
    "language_info": {
      "codemirror_mode": {
        "name": "ipython",
        "version": 3
      },
      "file_extension": ".py",
      "mimetype": "text/x-python",
      "name": "python",
      "nbconvert_exporter": "python",
      "pygments_lexer": "ipython3"
    }
  },
  "nbformat": 4,
  "nbformat_minor": 5
}
