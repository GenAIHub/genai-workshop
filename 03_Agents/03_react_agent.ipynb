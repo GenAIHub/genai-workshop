{
  "cells": [
    {
      "cell_type": "markdown",
      "id": "5cfa0417",
      "metadata": {
        "id": "5cfa0417"
      },
      "source": [
        "<a href=\"https://colab.research.google.com/github/jerryjliu/llama_index/blob/main/docs/docs/examples/query_transformations/03_react_agent.ipynb\" target=\"_parent\"><img src=\"https://colab.research.google.com/assets/colab-badge.svg\" alt=\"Open In Colab\"/></a>"
      ]
    },
    {
      "cell_type": "markdown",
      "id": "1fb3144c-99b8-482d-a205-0f50877653aa",
      "metadata": {
        "id": "1fb3144c-99b8-482d-a205-0f50877653aa"
      },
      "source": [
        "# ReAct Agent - A Simple Intro with Calculator Tools\n",
        "\n",
        "This is a notebook that showcases the ReAct agent over very simple calculator tools (no fancy RAG pipelines or API calls).\n",
        "\n",
        "We show how it can reason step-by-step over different tools to achieve the end goal."
      ]
    },
    {
      "cell_type": "code",
      "execution_count": null,
      "id": "f0794228",
      "metadata": {
        "collapsed": true,
        "id": "f0794228"
      },
      "outputs": [],
      "source": [
        "!pip install boto3\n",
        "!pip install llama-index\n",
        "!pip install llama-index-llms-bedrock"
      ]
    },
    {
      "cell_type": "code",
      "execution_count": 2,
      "id": "qv8kMtqfKp9K",
      "metadata": {
        "id": "qv8kMtqfKp9K"
      },
      "outputs": [],
      "source": [
        "import os\n",
        "import boto3\n",
        "\n",
        "# Set AWS env config\n",
        "region_name = os.getenv(\"AWS_REGION\", \"us-east-1\")\n",
        "aws_access_key_id = os.getenv(\"AWS_ACCESS_KEY_ID\", \"\")\n",
        "aws_secret_access_key = os.getenv(\"AWS_SECRET_ACCESS_KEY\", \"\")"
      ]
    },
    {
      "cell_type": "code",
      "execution_count": 3,
      "id": "h-YfCjrYKtl0",
      "metadata": {
        "id": "h-YfCjrYKtl0"
      },
      "outputs": [],
      "source": [
        "from llama_index.llms.bedrock import Bedrock\n",
        "from llama_index.core import Settings\n",
        "\n",
        "llm_model_id = \"anthropic.claude-3-sonnet-20240229-v1:0\"\n",
        "\n",
        "llm = Bedrock(\n",
        "    model=llm_model_id,\n",
        "    aws_access_key_id=aws_access_key_id,\n",
        "    aws_secret_access_key=aws_secret_access_key,\n",
        "    region_name=region_name,\n",
        "    temperature=0.1,\n",
        "    max_tokens=512\n",
        "    )\n",
        "\n",
        "Settings.llm = llm"
      ]
    },
    {
      "cell_type": "markdown",
      "id": "60ed8ac9-04fd-4deb-81a2-44cd8b4e2fd6",
      "metadata": {
        "id": "60ed8ac9-04fd-4deb-81a2-44cd8b4e2fd6"
      },
      "source": [
        "## Define Function Tools\n",
        "\n",
        "We setup some trivial `multiply` and `add` tools. Note that you can define arbitrary functions and pass it to the `FunctionTool` (which will process the docstring and parameter signature)."
      ]
    },
    {
      "cell_type": "code",
      "execution_count": 4,
      "id": "tP8YtJ-hLIR0",
      "metadata": {
        "id": "tP8YtJ-hLIR0"
      },
      "outputs": [],
      "source": [
        "from llama_index.core.agent import ReActAgent\n",
        "from llama_index.core.llms import ChatMessage\n",
        "from llama_index.core.tools import BaseTool, FunctionTool"
      ]
    },
    {
      "cell_type": "code",
      "execution_count": 5,
      "id": "26472aaf-1a12-49f9-9fe6-cbf41dd15f88",
      "metadata": {
        "id": "26472aaf-1a12-49f9-9fe6-cbf41dd15f88"
      },
      "outputs": [],
      "source": [
        "def multiply(a: int, b: int) -> int:\n",
        "    \"\"\"Multiply two integers and returns the result integer\"\"\"\n",
        "    return a * b\n",
        "\n",
        "\n",
        "multiply_tool = FunctionTool.from_defaults(fn=multiply)"
      ]
    },
    {
      "cell_type": "code",
      "execution_count": 6,
      "id": "df78ae85-bcf7-44c1-87ee-f301e646db20",
      "metadata": {
        "id": "df78ae85-bcf7-44c1-87ee-f301e646db20"
      },
      "outputs": [],
      "source": [
        "def add(a: int, b: int) -> int:\n",
        "    \"\"\"Add two integers and returns the result integer\"\"\"\n",
        "    return a + b\n",
        "\n",
        "\n",
        "add_tool = FunctionTool.from_defaults(fn=add)"
      ]
    },
    {
      "cell_type": "markdown",
      "id": "8b6c519f-6d74-4251-b38e-b8395a96d43b",
      "metadata": {
        "id": "8b6c519f-6d74-4251-b38e-b8395a96d43b"
      },
      "source": [
        "## Run Some Queries"
      ]
    },
    {
      "cell_type": "code",
      "execution_count": 7,
      "id": "7ab300f1-b054-46d9-b1c8-dbcd0d538e5a",
      "metadata": {
        "id": "7ab300f1-b054-46d9-b1c8-dbcd0d538e5a"
      },
      "outputs": [],
      "source": [
        "agent = ReActAgent.from_tools(\n",
        "    [\n",
        "        multiply_tool,\n",
        "        add_tool\n",
        "    ],\n",
        "    llm=llm,\n",
        "    verbose=True\n",
        "    )"
      ]
    },
    {
      "cell_type": "code",
      "execution_count": 8,
      "id": "69bb1aa9-1ea3-4c88-a4f3-239b76392aa5",
      "metadata": {
        "colab": {
          "base_uri": "https://localhost:8080/"
        },
        "id": "69bb1aa9-1ea3-4c88-a4f3-239b76392aa5",
        "outputId": "2dc99700-8761-46fe-d678-0c57746bf056"
      },
      "outputs": [
        {
          "name": "stdout",
          "output_type": "stream",
          "text": [
            "\u001b[1;3;38;5;200mThought: The current language of the user is: English. I need to use tools to help me answer the question step by step.\n",
            "Action: multiply\n",
            "Action Input: {'a': 2, 'b': 4}\n",
            "\u001b[0m\u001b[1;3;34mObservation: 8\n",
            "\u001b[0m\u001b[1;3;38;5;200mThought: I need to add 20 and the result from the previous multiplication to get the final answer.\n",
            "Action: add\n",
            "Action Input: {'a': 20, 'b': 8}\n",
            "\u001b[0m\u001b[1;3;34mObservation: 28\n",
            "\u001b[0m\u001b[1;3;38;5;200mThought: I can answer without using any more tools. I'll use the user's language to answer.\n",
            "Answer: To calculate 20+(2*4) step by step:\n",
            "\n",
            "1. First, we calculate 2*4 using the multiply tool:\n",
            "   2 * 4 = 8\n",
            "\n",
            "2. Then, we add 20 and the result from step 1 using the add tool: \n",
            "   20 + 8 = 28\n",
            "\n",
            "Therefore, the answer to 20+(2*4) is 28.\n",
            "\u001b[0m"
          ]
        }
      ],
      "source": [
        "response = agent.chat(\"What is 20+(2*4)? Calculate step by step \")"
      ]
    },
    {
      "cell_type": "markdown",
      "id": "6086fbe1-e82c-49ec-b410-cb951efab256",
      "metadata": {
        "id": "6086fbe1-e82c-49ec-b410-cb951efab256"
      },
      "source": [
        "## View Prompts\n",
        "\n",
        "Let's take a look at the core system prompt powering the ReAct agent!\n",
        "\n",
        "Within the agent, the current conversation history is dumped below this line."
      ]
    },
    {
      "cell_type": "code",
      "execution_count": 10,
      "id": "ad7964a5-a953-4a53-9865-6a0795cd2772",
      "metadata": {
        "colab": {
          "base_uri": "https://localhost:8080/"
        },
        "id": "ad7964a5-a953-4a53-9865-6a0795cd2772",
        "outputId": "fc8048e6-20d0-4ad1-b47b-b5e9d905c13a"
      },
      "outputs": [
        {
          "name": "stdout",
          "output_type": "stream",
          "text": [
            "Prompt: agent_worker:system_prompt\n",
            "\n",
            "Value: You are designed to help with a variety of tasks, from answering questions to providing summaries to other types of analyses.\n",
            "\n",
            "## Tools\n",
            "\n",
            "You have access to a wide variety of tools. You are responsible for using the tools in any sequence you deem appropriate to complete the task at hand.\n",
            "This may require breaking the task into subtasks and using different tools to complete each subtask.\n",
            "\n",
            "You have access to the following tools:\n",
            "{tool_desc}\n",
            "\n",
            "\n",
            "## Output Format\n",
            "\n",
            "Please answer in the same language as the question and use the following format:\n",
            "\n",
            "```\n",
            "Thought: The current language of the user is: (user's language). I need to use a tool to help me answer the question.\n",
            "Action: tool name (one of {tool_names}) if using a tool.\n",
            "Action Input: the input to the tool, in a JSON format representing the kwargs (e.g. {{\"input\": \"hello world\", \"num_beams\": 5}})\n",
            "```\n",
            "\n",
            "Please ALWAYS start with a Thought.\n",
            "\n",
            "Please use a valid JSON format for the Action Input. Do NOT do this {{'input': 'hello world', 'num_beams': 5}}.\n",
            "\n",
            "If this format is used, the user will respond in the following format:\n",
            "\n",
            "```\n",
            "Observation: tool response\n",
            "```\n",
            "\n",
            "You should keep repeating the above format till you have enough information to answer the question without using any more tools. At that point, you MUST respond in the one of the following two formats:\n",
            "\n",
            "```\n",
            "Thought: I can answer without using any more tools. I'll use the user's language to answer\n",
            "Answer: [your answer here (In the same language as the user's question)]\n",
            "```\n",
            "\n",
            "```\n",
            "Thought: I cannot answer the question with the provided tools.\n",
            "Answer: [your answer here (In the same language as the user's question)]\n",
            "```\n",
            "\n",
            "## Current Conversation\n",
            "\n",
            "Below is the current conversation consisting of interleaving human and assistant messages.\n",
            "\n"
          ]
        }
      ],
      "source": [
        "prompt_dict = agent.get_prompts()\n",
        "for k, v in prompt_dict.items():\n",
        "    print(f\"Prompt: {k}\\n\\nValue: {v.template}\")"
      ]
    },
    {
      "cell_type": "markdown",
      "id": "502ffbf6-e1e9-46f6-8623-c0d8184fe274",
      "metadata": {
        "id": "502ffbf6-e1e9-46f6-8623-c0d8184fe274"
      },
      "source": [
        "### Customizing the Prompt\n",
        "\n",
        "For fun, let's try instructing the agent to output the answer along with reasoning in bullet points. See \"## Additional Rules\" section."
      ]
    },
    {
      "cell_type": "code",
      "execution_count": 11,
      "id": "0766d978-b011-40a6-bdce-b0ea566d2475",
      "metadata": {
        "id": "0766d978-b011-40a6-bdce-b0ea566d2475"
      },
      "outputs": [],
      "source": [
        "from llama_index.core import PromptTemplate\n",
        "\n",
        "react_system_header_str = \"\"\"\\\n",
        "\n",
        "You are designed to help with a variety of tasks, from answering questions \\\n",
        "    to providing summaries to other types of analyses.\n",
        "\n",
        "## Tools\n",
        "You have access to a wide variety of tools. You are responsible for using\n",
        "the tools in any sequence you deem appropriate to complete the task at hand.\n",
        "This may require breaking the task into subtasks and using different tools\n",
        "to complete each subtask.\n",
        "\n",
        "You have access to the following tools:\n",
        "{tool_desc}\n",
        "\n",
        "## Output Format\n",
        "To answer the question, please use the following format.\n",
        "\n",
        "```\n",
        "Thought: I need to use a tool to help me answer the question.\n",
        "Action: tool name (one of {tool_names}) if using a tool.\n",
        "Action Input: the input to the tool, in a JSON format representing the kwargs (e.g. {{\"input\": \"hello world\", \"num_beams\": 5}})\n",
        "```\n",
        "\n",
        "Please ALWAYS start with a Thought.\n",
        "\n",
        "Please use a valid JSON format for the Action Input. Do NOT do this {{'input': 'hello world', 'num_beams': 5}}.\n",
        "\n",
        "If this format is used, the user will respond in the following format:\n",
        "\n",
        "```\n",
        "Observation: tool response\n",
        "```\n",
        "\n",
        "You should keep repeating the above format until you have enough information\n",
        "to answer the question without using any more tools. At that point, you MUST respond\n",
        "in the one of the following two formats:\n",
        "\n",
        "```\n",
        "Thought: I can answer without using any more tools.\n",
        "Answer: [your answer here]\n",
        "```\n",
        "\n",
        "```\n",
        "Thought: I cannot answer the question with the provided tools.\n",
        "Answer: Sorry, I cannot answer your query.\n",
        "```\n",
        "\n",
        "## Additional Rules\n",
        "- The answer MUST contain a sequence of bullet points that explain how you arrived at the answer. This can include aspects of the previous conversation history.\n",
        "- You MUST obey the function signature of each tool. Do NOT pass in no arguments if the function expects arguments.\n",
        "\n",
        "## Current Conversation\n",
        "Below is the current conversation consisting of interleaving human and assistant messages.\n",
        "\n",
        "\"\"\"\n",
        "react_system_prompt = PromptTemplate(react_system_header_str)"
      ]
    },
    {
      "cell_type": "code",
      "execution_count": 12,
      "id": "c32037ea-6c30-4059-bd32-4b9ba64912ab",
      "metadata": {
        "colab": {
          "base_uri": "https://localhost:8080/"
        },
        "id": "c32037ea-6c30-4059-bd32-4b9ba64912ab",
        "outputId": "b4fff1c6-fb61-4afd-d701-07ad6b321d07"
      },
      "outputs": [
        {
          "data": {
            "text/plain": [
              "{'agent_worker:system_prompt': PromptTemplate(metadata={'prompt_type': <PromptType.CUSTOM: 'custom'>}, template_vars=['tool_desc', 'tool_names'], kwargs={}, output_parser=None, template_var_mappings=None, function_mappings=None, template='You are designed to help with a variety of tasks, from answering questions to providing summaries to other types of analyses.\\n\\n## Tools\\n\\nYou have access to a wide variety of tools. You are responsible for using the tools in any sequence you deem appropriate to complete the task at hand.\\nThis may require breaking the task into subtasks and using different tools to complete each subtask.\\n\\nYou have access to the following tools:\\n{tool_desc}\\n\\n\\n## Output Format\\n\\nPlease answer in the same language as the question and use the following format:\\n\\n```\\nThought: The current language of the user is: (user\\'s language). I need to use a tool to help me answer the question.\\nAction: tool name (one of {tool_names}) if using a tool.\\nAction Input: the input to the tool, in a JSON format representing the kwargs (e.g. {{\"input\": \"hello world\", \"num_beams\": 5}})\\n```\\n\\nPlease ALWAYS start with a Thought.\\n\\nPlease use a valid JSON format for the Action Input. Do NOT do this {{\\'input\\': \\'hello world\\', \\'num_beams\\': 5}}.\\n\\nIf this format is used, the user will respond in the following format:\\n\\n```\\nObservation: tool response\\n```\\n\\nYou should keep repeating the above format till you have enough information to answer the question without using any more tools. At that point, you MUST respond in the one of the following two formats:\\n\\n```\\nThought: I can answer without using any more tools. I\\'ll use the user\\'s language to answer\\nAnswer: [your answer here (In the same language as the user\\'s question)]\\n```\\n\\n```\\nThought: I cannot answer the question with the provided tools.\\nAnswer: [your answer here (In the same language as the user\\'s question)]\\n```\\n\\n## Current Conversation\\n\\nBelow is the current conversation consisting of interleaving human and assistant messages.\\n')}"
            ]
          },
          "execution_count": 12,
          "metadata": {},
          "output_type": "execute_result"
        }
      ],
      "source": [
        "agent.get_prompts()"
      ]
    },
    {
      "cell_type": "code",
      "execution_count": 13,
      "id": "67581223-f625-4b28-90aa-c8e5a232879e",
      "metadata": {
        "id": "67581223-f625-4b28-90aa-c8e5a232879e"
      },
      "outputs": [],
      "source": [
        "agent.update_prompts({\"agent_worker:system_prompt\": react_system_prompt})"
      ]
    },
    {
      "cell_type": "code",
      "execution_count": 14,
      "id": "9e1b2ce0-8f46-4d1d-8504-5b4b5d3f8478",
      "metadata": {
        "colab": {
          "base_uri": "https://localhost:8080/"
        },
        "id": "9e1b2ce0-8f46-4d1d-8504-5b4b5d3f8478",
        "outputId": "895fbedb-5398-4c6f-f6ff-affaef937cd7"
      },
      "outputs": [
        {
          "name": "stdout",
          "output_type": "stream",
          "text": [
            "\u001b[1;3;38;5;200mThought: To calculate 5+3+2, I can break it down into two steps: first add 5 and 3, then add the result to 2.\n",
            "Action: add\n",
            "Action Input: {'a': 5, 'b': 3}\n",
            "\u001b[0m\u001b[1;3;34mObservation: 8\n",
            "\u001b[0m\u001b[1;3;38;5;200mThought: Now I need to add the result of 5+3, which is 8, to 2.\n",
            "Action: add\n",
            "Action Input: {'a': 8, 'b': 2}\n",
            "\u001b[0m\u001b[1;3;34mObservation: 10\n",
            "\u001b[0m\u001b[1;3;38;5;200mThought: I now have the result of 5+3+2, which is 10.\n",
            "Answer: The answer to 5+3+2 is 10. Here are the steps:\n",
            "\n",
            "- First, I added 5 and 3 using the add tool, which gave 8.\n",
            "- Then, I added 8 and 2 using the add tool again, which gave the final result of 10.\n",
            "\u001b[0mThe answer to 5+3+2 is 10. Here are the steps:\n",
            "\n",
            "- First, I added 5 and 3 using the add tool, which gave 8.\n",
            "- Then, I added 8 and 2 using the add tool again, which gave the final result of 10.\n"
          ]
        }
      ],
      "source": [
        "agent.reset()\n",
        "response = agent.chat(\"What is 5+3+2\")\n",
        "print(response)"
      ]
    }
  ],
  "metadata": {
    "colab": {
      "provenance": []
    },
    "kernelspec": {
      "display_name": "llama_index_v2",
      "language": "python",
      "name": "llama_index_v2"
    },
    "language_info": {
      "codemirror_mode": {
        "name": "ipython",
        "version": 3
      },
      "file_extension": ".py",
      "mimetype": "text/x-python",
      "name": "python",
      "nbconvert_exporter": "python",
      "pygments_lexer": "ipython3"
    }
  },
  "nbformat": 4,
  "nbformat_minor": 5
}
